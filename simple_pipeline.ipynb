{
 "cells": [
  {
   "cell_type": "code",
   "execution_count": 85,
   "metadata": {},
   "outputs": [],
   "source": [
    "import os.path\n",
    "import torch\n",
    "\n",
    "PATH_TO_PRETRAINED = '/home/vika/comparative-dialogue/comparative-dialogue/external_pretrained_models/'\n",
    "MODEL_NAME = 'model2_tagger.hdf5'\n",
    "\n",
    "def load(checkpoint_fn, gpu=-1):\n",
    "    if not os.path.isfile(PATH_TO_PRETRAINED + checkpoint_fn):\n",
    "        raise ValueError('Can''t find tagger in file \"%s\". Please, run the main script with non-empty \\\n",
    "                         \"--save-best-path\" param to create it.' % checkpoint_fn)\n",
    "    tagger = torch.load(PATH_TO_PRETRAINED + checkpoint_fn)\n",
    "    tagger.gpu = gpu\n",
    "\n",
    "    tagger.word_seq_indexer.gpu = gpu # hotfix\n",
    "    tagger.tag_seq_indexer.gpu = gpu # hotfix\n",
    "    if hasattr(tagger, 'char_embeddings_layer'):# very hot hotfix\n",
    "        tagger.char_embeddings_layer.char_seq_indexer.gpu = gpu # hotfix\n",
    "    tagger.self_ensure_gpu()\n",
    "    return tagger"
   ]
  },
  {
   "cell_type": "code",
   "execution_count": 86,
   "metadata": {},
   "outputs": [
    {
     "name": "stdout",
     "output_type": "stream",
     "text": [
      "/home/vika/comparative-dialogue/comparative-dialogue\n"
     ]
    }
   ],
   "source": [
    "!pwd"
   ]
  },
  {
   "cell_type": "code",
   "execution_count": 87,
   "metadata": {},
   "outputs": [],
   "source": [
    "def create_sequence_from_sentence(str_sentences):\n",
    "    return [str_sentence.lower().split() for str_sentence in str_sentences]"
   ]
  },
  {
   "cell_type": "code",
   "execution_count": 88,
   "metadata": {},
   "outputs": [],
   "source": [
    "words = create_sequence_from_sentence(['what is better amazon or itunes for showing', 'what is better mouse or rat', 'what is easier to make bread o pizza'])"
   ]
  },
  {
   "cell_type": "code",
   "execution_count": null,
   "metadata": {},
   "outputs": [],
   "source": [
    "['what is better amazon or itunes for showing', 'what is better mouse or rat', 'what is easier to make bread o pizza']"
   ]
  },
  {
   "cell_type": "code",
   "execution_count": 89,
   "metadata": {},
   "outputs": [
    {
     "name": "stdout",
     "output_type": "stream",
     "text": [
      "\n",
      "\n",
      "++ predicting, batch 1/1 (0.00%)."
     ]
    }
   ],
   "source": [
    "import sys\n",
    "sys.path.append('/home/vika/NER_RNN/targer')\n",
    "from src.factories.factory_tagger import TaggerFactory\n",
    "\n",
    "model = TaggerFactory.load(PATH_TO_PRETRAINED + MODEL_NAME)\n",
    "tags = model.predict_tags_from_words(words)"
   ]
  },
  {
   "cell_type": "code",
   "execution_count": 90,
   "metadata": {},
   "outputs": [],
   "source": [
    "def get_objects(list_words, list_tags):\n",
    "    obj_list = []\n",
    "    for ind, elem in enumerate(list_tags):\n",
    "        if elem == 'B-OTHOBJ' or elem == 'B-ASPOBJ':\n",
    "            obj_list.append(list_words[ind])\n",
    "    return obj_list"
   ]
  },
  {
   "cell_type": "code",
   "execution_count": 91,
   "metadata": {},
   "outputs": [],
   "source": [
    "objects_list = []\n",
    "for elem in list(zip(words, tags)):\n",
    "    objects = get_objects(elem[0], elem[1])\n",
    "    assert len(objects) >= 2, \"We have %d objects to compare\" %(len(objects))\n",
    "    objects_list.append((objects[0], objects[1]))"
   ]
  },
  {
   "cell_type": "code",
   "execution_count": 92,
   "metadata": {},
   "outputs": [
    {
     "name": "stdout",
     "output_type": "stream",
     "text": [
      "get url\n",
      "In this context, amazon are preferable to itunes, as it is faster, greater, deeper, faster for me, easier to interface here. Itunes are worse for consumers, easier, easier to work with, easier to navigate, easier to use store, better for random browsing and searching, cleaner\n",
      "get url\n",
      "Rat is better than mouse, because it is greater, easier to work with, bigger, easier, differentiation, easier to study diseases in rats, larger, easier to isolate and culture. At the same time, mouse is quicker, faster, shower, easier to pick up, easier to trap, richer\n",
      "get url\n",
      "In this context, pizza are preferable to bread, as it is faster, lighter, easier to make, better for your health, bigger, simpler, greater, easier to handle. Bread are safer, quicker, easier to find and more expensive, easier for me to make, nicer\n"
     ]
    }
   ],
   "source": [
    "from util import get_response\n",
    "from generation.generation import diviner\n",
    "\n",
    "for obj0, obj1 in objects_list:\n",
    "    response = get_response(obj0, obj1, False)\n",
    "    response_json = response.json()\n",
    "    Merlin = diviner()\n",
    "    Merlin.create_from_json(response_json)\n",
    "    Merlin.generate_advice()"
   ]
  },
  {
   "cell_type": "code",
   "execution_count": null,
   "metadata": {},
   "outputs": [],
   "source": []
  }
 ],
 "metadata": {
  "kernelspec": {
   "display_name": "Python 3",
   "language": "python",
   "name": "python3"
  },
  "language_info": {
   "codemirror_mode": {
    "name": "ipython",
    "version": 3
   },
   "file_extension": ".py",
   "mimetype": "text/x-python",
   "name": "python",
   "nbconvert_exporter": "python",
   "pygments_lexer": "ipython3",
   "version": "3.6.6"
  }
 },
 "nbformat": 4,
 "nbformat_minor": 2
}
