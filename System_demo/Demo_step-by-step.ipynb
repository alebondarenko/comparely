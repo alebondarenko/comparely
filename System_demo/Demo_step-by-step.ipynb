{
 "cells": [
  {
   "cell_type": "markdown",
   "metadata": {},
   "source": [
    "# Comparative question answering demo"
   ]
  },
  {
   "cell_type": "markdown",
   "metadata": {},
   "source": [
    "To run the demo you need to have w2v embeddings in the same folder"
   ]
  },
  {
   "cell_type": "markdown",
   "metadata": {},
   "source": [
    "External resourses required:"
   ]
  },
  {
   "cell_type": "code",
   "execution_count": null,
   "metadata": {
    "scrolled": true
   },
   "outputs": [],
   "source": [
    "!python3 -m nltk.downloader stopwords\n",
    "!python3 -m nltk.downloader universal_tagset\n",
    "!python3 -m spacy download en"
   ]
  },
  {
   "cell_type": "code",
   "execution_count": 1,
   "metadata": {
    "scrolled": true
   },
   "outputs": [
    {
     "name": "stderr",
     "output_type": "stream",
     "text": [
      "/home/nick/.local/lib/python3.7/site-packages/sklearn/externals/joblib/__init__.py:15: DeprecationWarning: sklearn.externals.joblib is deprecated in 0.21 and will be removed in 0.23. Please import this functionality directly from joblib, which can be installed with: pip install joblib. If this warning is raised when loading pickled models, you may need to re-serialize those models with scikit-learn 0.21+.\n",
      "  warnings.warn(msg, category=DeprecationWarning)\n"
     ]
    }
   ],
   "source": [
    "from utils.sentence_clearer import clear_sentences, remove_questions\n",
    "from ml_approach.sentence_preparation_ML import prepare_sentence_DF\n",
    "from ml_approach.classify import classify_sentences\n",
    "from utils.es_requester import extract_sentences\n",
    "from utils.objects import Argument\n",
    "\n",
    "import pke\n",
    "from pke.unsupervised import MultipartiteRank\n",
    "import requests\n",
    "from requests.auth import HTTPBasicAuth\n",
    "import gensim\n",
    "import numpy as np"
   ]
  },
  {
   "cell_type": "markdown",
   "metadata": {},
   "source": [
    "### Input two objects to compare"
   ]
  },
  {
   "cell_type": "code",
   "execution_count": 2,
   "metadata": {},
   "outputs": [],
   "source": [
    "obj_a = \"python\"\n",
    "obj_b = \"java\""
   ]
  },
  {
   "cell_type": "code",
   "execution_count": 3,
   "metadata": {},
   "outputs": [],
   "source": [
    "obj_a = Argument(obj_a.lower().strip())\n",
    "obj_b = Argument(obj_b.lower().strip())"
   ]
  },
  {
   "cell_type": "markdown",
   "metadata": {},
   "source": [
    "## Look for sentences, containing the requested objects in Elasticsearch"
   ]
  },
  {
   "cell_type": "markdown",
   "metadata": {},
   "source": [
    "Fill in user and password"
   ]
  },
  {
   "cell_type": "code",
   "execution_count": 4,
   "metadata": {},
   "outputs": [],
   "source": [
    "def request_elasticsearch(obj_a, obj_b):\n",
    "    user = ''\n",
    "    password = ''\n",
    "    url = 'http://ltdemos.informatik.uni-hamburg.de/depcc-index/_search?q='\n",
    "    url += 'text:\\\"{}\\\"%20AND%20\\\"{}\\\"'.format(obj_a.name, obj_b.name)\n",
    "\n",
    "    size = 10000\n",
    "    \n",
    "    url += '&from=0&size={}'.format(size)\n",
    "    response = requests.get(url, auth=HTTPBasicAuth(user, password))\n",
    "    return response"
   ]
  },
  {
   "cell_type": "code",
   "execution_count": 5,
   "metadata": {},
   "outputs": [],
   "source": [
    "json_compl = request_elasticsearch(obj_a, obj_b)"
   ]
  },
  {
   "cell_type": "markdown",
   "metadata": {},
   "source": [
    "## Preparing sentences for classificator"
   ]
  },
  {
   "cell_type": "code",
   "execution_count": 6,
   "metadata": {},
   "outputs": [],
   "source": [
    "all_sentences = extract_sentences(json_compl)\n",
    "remove_questions(all_sentences)\n",
    "prepared_sentences = prepare_sentence_DF(all_sentences, obj_a, obj_b)"
   ]
  },
  {
   "cell_type": "code",
   "execution_count": 7,
   "metadata": {},
   "outputs": [
    {
     "data": {
      "text/html": [
       "<div>\n",
       "<style scoped>\n",
       "    .dataframe tbody tr th:only-of-type {\n",
       "        vertical-align: middle;\n",
       "    }\n",
       "\n",
       "    .dataframe tbody tr th {\n",
       "        vertical-align: top;\n",
       "    }\n",
       "\n",
       "    .dataframe thead th {\n",
       "        text-align: right;\n",
       "    }\n",
       "</style>\n",
       "<table border=\"1\" class=\"dataframe\">\n",
       "  <thead>\n",
       "    <tr style=\"text-align: right;\">\n",
       "      <th></th>\n",
       "      <th>object_a</th>\n",
       "      <th>object_b</th>\n",
       "      <th>sentence</th>\n",
       "    </tr>\n",
       "  </thead>\n",
       "  <tbody>\n",
       "    <tr>\n",
       "      <td>0</td>\n",
       "      <td>java</td>\n",
       "      <td>python</td>\n",
       "      <td>Software Terms:  Java, Programming, Source Cod...</td>\n",
       "    </tr>\n",
       "    <tr>\n",
       "      <td>1</td>\n",
       "      <td>java</td>\n",
       "      <td>python</td>\n",
       "      <td>Java , Ruby, Python, Java,</td>\n",
       "    </tr>\n",
       "    <tr>\n",
       "      <td>2</td>\n",
       "      <td>java</td>\n",
       "      <td>python</td>\n",
       "      <td>As Java devours Python, Python also devours Java.</td>\n",
       "    </tr>\n",
       "    <tr>\n",
       "      <td>3</td>\n",
       "      <td>java</td>\n",
       "      <td>python</td>\n",
       "      <td>compare Java to Python, not Java + JVM to Python.</td>\n",
       "    </tr>\n",
       "    <tr>\n",
       "      <td>4</td>\n",
       "      <td>python</td>\n",
       "      <td>java</td>\n",
       "      <td>Python is not Java, and Java is not Python.</td>\n",
       "    </tr>\n",
       "  </tbody>\n",
       "</table>\n",
       "</div>"
      ],
      "text/plain": [
       "  object_a object_b                                           sentence\n",
       "0     java   python  Software Terms:  Java, Programming, Source Cod...\n",
       "1     java   python                         Java , Ruby, Python, Java,\n",
       "2     java   python  As Java devours Python, Python also devours Java.\n",
       "3     java   python  compare Java to Python, not Java + JVM to Python.\n",
       "4   python     java        Python is not Java, and Java is not Python."
      ]
     },
     "execution_count": 7,
     "metadata": {},
     "output_type": "execute_result"
    }
   ],
   "source": [
    "prepared_sentences.head()"
   ]
  },
  {
   "cell_type": "markdown",
   "metadata": {},
   "source": [
    "## Using classificator of comparative sentences\n",
    "The classificator is used in CAM system:  \n",
    "Paper: https://arxiv.org/abs/1901.05041  \n",
    "Github: https://github.com/uhh-lt/cam/  \n",
    "\n",
    "The classifier takes 2 compared objects and a sentence as an input.\n",
    "The output is one of 3 classes:\n",
    "- NONE - the sentence does not have comparison in it\n",
    "- BETTER - the first object in a sentence is better than the second\n",
    "- WORSE - the first object in a sentence is worse than the second  \n",
    "\n",
    "Paper: https://arxiv.org/abs/1809.06152\n"
   ]
  },
  {
   "cell_type": "code",
   "execution_count": 8,
   "metadata": {
    "scrolled": false
   },
   "outputs": [
    {
     "name": "stderr",
     "output_type": "stream",
     "text": [
      "/home/nick/.local/lib/python3.7/site-packages/sklearn/base.py:306: UserWarning: Trying to unpickle estimator CountVectorizer from version 0.19.1 when using version 0.21.3. This might lead to breaking code or invalid results. Use at your own risk.\n",
      "  UserWarning)\n",
      "/home/nick/.local/lib/python3.7/site-packages/sklearn/base.py:306: UserWarning: Trying to unpickle estimator LabelEncoder from version 0.19.1 when using version 0.21.3. This might lead to breaking code or invalid results. Use at your own risk.\n",
      "  UserWarning)\n",
      "/home/nick/.local/lib/python3.7/site-packages/sklearn/base.py:306: UserWarning: Trying to unpickle estimator Pipeline from version 0.19.1 when using version 0.21.3. This might lead to breaking code or invalid results. Use at your own risk.\n",
      "  UserWarning)\n"
     ]
    }
   ],
   "source": [
    "classification_results = classify_sentences(prepared_sentences, 'bow')"
   ]
  },
  {
   "cell_type": "markdown",
   "metadata": {},
   "source": [
    "We don't need the sentences without comparison"
   ]
  },
  {
   "cell_type": "code",
   "execution_count": 9,
   "metadata": {
    "scrolled": true
   },
   "outputs": [
    {
     "data": {
      "text/html": [
       "<div>\n",
       "<style scoped>\n",
       "    .dataframe tbody tr th:only-of-type {\n",
       "        vertical-align: middle;\n",
       "    }\n",
       "\n",
       "    .dataframe tbody tr th {\n",
       "        vertical-align: top;\n",
       "    }\n",
       "\n",
       "    .dataframe thead th {\n",
       "        text-align: right;\n",
       "    }\n",
       "</style>\n",
       "<table border=\"1\" class=\"dataframe\">\n",
       "  <thead>\n",
       "    <tr style=\"text-align: right;\">\n",
       "      <th></th>\n",
       "      <th>BETTER</th>\n",
       "      <th>NONE</th>\n",
       "      <th>WORSE</th>\n",
       "      <th>max</th>\n",
       "    </tr>\n",
       "  </thead>\n",
       "  <tbody>\n",
       "    <tr>\n",
       "      <td>144</td>\n",
       "      <td>0.677115</td>\n",
       "      <td>0.246707</td>\n",
       "      <td>0.076178</td>\n",
       "      <td>BETTER</td>\n",
       "    </tr>\n",
       "    <tr>\n",
       "      <td>296</td>\n",
       "      <td>0.626316</td>\n",
       "      <td>0.319415</td>\n",
       "      <td>0.054270</td>\n",
       "      <td>BETTER</td>\n",
       "    </tr>\n",
       "    <tr>\n",
       "      <td>459</td>\n",
       "      <td>0.562257</td>\n",
       "      <td>0.225554</td>\n",
       "      <td>0.212190</td>\n",
       "      <td>BETTER</td>\n",
       "    </tr>\n",
       "    <tr>\n",
       "      <td>464</td>\n",
       "      <td>0.850893</td>\n",
       "      <td>0.119348</td>\n",
       "      <td>0.029760</td>\n",
       "      <td>BETTER</td>\n",
       "    </tr>\n",
       "    <tr>\n",
       "      <td>481</td>\n",
       "      <td>0.850893</td>\n",
       "      <td>0.119348</td>\n",
       "      <td>0.029760</td>\n",
       "      <td>BETTER</td>\n",
       "    </tr>\n",
       "    <tr>\n",
       "      <td>...</td>\n",
       "      <td>...</td>\n",
       "      <td>...</td>\n",
       "      <td>...</td>\n",
       "      <td>...</td>\n",
       "    </tr>\n",
       "    <tr>\n",
       "      <td>5232</td>\n",
       "      <td>0.635913</td>\n",
       "      <td>0.297547</td>\n",
       "      <td>0.066540</td>\n",
       "      <td>BETTER</td>\n",
       "    </tr>\n",
       "    <tr>\n",
       "      <td>5274</td>\n",
       "      <td>0.626316</td>\n",
       "      <td>0.319415</td>\n",
       "      <td>0.054270</td>\n",
       "      <td>BETTER</td>\n",
       "    </tr>\n",
       "    <tr>\n",
       "      <td>5309</td>\n",
       "      <td>0.626316</td>\n",
       "      <td>0.319415</td>\n",
       "      <td>0.054270</td>\n",
       "      <td>BETTER</td>\n",
       "    </tr>\n",
       "    <tr>\n",
       "      <td>5328</td>\n",
       "      <td>0.902701</td>\n",
       "      <td>0.057767</td>\n",
       "      <td>0.039532</td>\n",
       "      <td>BETTER</td>\n",
       "    </tr>\n",
       "    <tr>\n",
       "      <td>5436</td>\n",
       "      <td>0.019896</td>\n",
       "      <td>0.473858</td>\n",
       "      <td>0.506246</td>\n",
       "      <td>WORSE</td>\n",
       "    </tr>\n",
       "  </tbody>\n",
       "</table>\n",
       "<p>109 rows × 4 columns</p>\n",
       "</div>"
      ],
      "text/plain": [
       "        BETTER      NONE     WORSE     max\n",
       "144   0.677115  0.246707  0.076178  BETTER\n",
       "296   0.626316  0.319415  0.054270  BETTER\n",
       "459   0.562257  0.225554  0.212190  BETTER\n",
       "464   0.850893  0.119348  0.029760  BETTER\n",
       "481   0.850893  0.119348  0.029760  BETTER\n",
       "...        ...       ...       ...     ...\n",
       "5232  0.635913  0.297547  0.066540  BETTER\n",
       "5274  0.626316  0.319415  0.054270  BETTER\n",
       "5309  0.626316  0.319415  0.054270  BETTER\n",
       "5328  0.902701  0.057767  0.039532  BETTER\n",
       "5436  0.019896  0.473858  0.506246   WORSE\n",
       "\n",
       "[109 rows x 4 columns]"
      ]
     },
     "execution_count": 9,
     "metadata": {},
     "output_type": "execute_result"
    }
   ],
   "source": [
    "classification_results[classification_results['max'] != 'NONE']"
   ]
  },
  {
   "cell_type": "code",
   "execution_count": 10,
   "metadata": {},
   "outputs": [
    {
     "data": {
      "text/html": [
       "<div>\n",
       "<style scoped>\n",
       "    .dataframe tbody tr th:only-of-type {\n",
       "        vertical-align: middle;\n",
       "    }\n",
       "\n",
       "    .dataframe tbody tr th {\n",
       "        vertical-align: top;\n",
       "    }\n",
       "\n",
       "    .dataframe thead th {\n",
       "        text-align: right;\n",
       "    }\n",
       "</style>\n",
       "<table border=\"1\" class=\"dataframe\">\n",
       "  <thead>\n",
       "    <tr style=\"text-align: right;\">\n",
       "      <th></th>\n",
       "      <th>object_a</th>\n",
       "      <th>object_b</th>\n",
       "      <th>sentence</th>\n",
       "    </tr>\n",
       "  </thead>\n",
       "  <tbody>\n",
       "    <tr>\n",
       "      <td>144</td>\n",
       "      <td>python</td>\n",
       "      <td>java</td>\n",
       "      <td>python than for java.</td>\n",
       "    </tr>\n",
       "    <tr>\n",
       "      <td>296</td>\n",
       "      <td>python</td>\n",
       "      <td>java</td>\n",
       "      <td>Python, instead of Java).</td>\n",
       "    </tr>\n",
       "    <tr>\n",
       "      <td>459</td>\n",
       "      <td>java</td>\n",
       "      <td>python</td>\n",
       "      <td>Java was compared to Python.</td>\n",
       "    </tr>\n",
       "    <tr>\n",
       "      <td>464</td>\n",
       "      <td>java</td>\n",
       "      <td>python</td>\n",
       "      <td>Java 8X Faster than Python</td>\n",
       "    </tr>\n",
       "    <tr>\n",
       "      <td>481</td>\n",
       "      <td>java</td>\n",
       "      <td>python</td>\n",
       "      <td>Java 5.3X Faster than Python</td>\n",
       "    </tr>\n",
       "    <tr>\n",
       "      <td>...</td>\n",
       "      <td>...</td>\n",
       "      <td>...</td>\n",
       "      <td>...</td>\n",
       "    </tr>\n",
       "    <tr>\n",
       "      <td>5232</td>\n",
       "      <td>java</td>\n",
       "      <td>python</td>\n",
       "      <td>(At this point, I know more Java than Python.)</td>\n",
       "    </tr>\n",
       "    <tr>\n",
       "      <td>5274</td>\n",
       "      <td>python</td>\n",
       "      <td>java</td>\n",
       "      <td>throw a Python RuntimeError instead of a Java ...</td>\n",
       "    </tr>\n",
       "    <tr>\n",
       "      <td>5309</td>\n",
       "      <td>java</td>\n",
       "      <td>python</td>\n",
       "      <td>I'm writing this project in Java instead of Py...</td>\n",
       "    </tr>\n",
       "    <tr>\n",
       "      <td>5328</td>\n",
       "      <td>java</td>\n",
       "      <td>python</td>\n",
       "      <td>Java is a whole lot more predictible than Python.</td>\n",
       "    </tr>\n",
       "    <tr>\n",
       "      <td>5436</td>\n",
       "      <td>python</td>\n",
       "      <td>java</td>\n",
       "      <td>I know Python but would have to learn Java.</td>\n",
       "    </tr>\n",
       "  </tbody>\n",
       "</table>\n",
       "<p>109 rows × 3 columns</p>\n",
       "</div>"
      ],
      "text/plain": [
       "     object_a object_b                                           sentence\n",
       "144    python     java                              python than for java.\n",
       "296    python     java                          Python, instead of Java).\n",
       "459      java   python                       Java was compared to Python.\n",
       "464      java   python                         Java 8X Faster than Python\n",
       "481      java   python                       Java 5.3X Faster than Python\n",
       "...       ...      ...                                                ...\n",
       "5232     java   python     (At this point, I know more Java than Python.)\n",
       "5274   python     java  throw a Python RuntimeError instead of a Java ...\n",
       "5309     java   python  I'm writing this project in Java instead of Py...\n",
       "5328     java   python  Java is a whole lot more predictible than Python.\n",
       "5436   python     java        I know Python but would have to learn Java.\n",
       "\n",
       "[109 rows x 3 columns]"
      ]
     },
     "execution_count": 10,
     "metadata": {},
     "output_type": "execute_result"
    }
   ],
   "source": [
    "prepared_sentences[classification_results['max'] != 'NONE']"
   ]
  },
  {
   "cell_type": "markdown",
   "metadata": {},
   "source": [
    "Uniting the comparative sentences and results of classification into one dataframe"
   ]
  },
  {
   "cell_type": "code",
   "execution_count": 11,
   "metadata": {},
   "outputs": [],
   "source": [
    "comparative_sentences = prepared_sentences[classification_results['max'] != 'NONE']"
   ]
  },
  {
   "cell_type": "code",
   "execution_count": 12,
   "metadata": {},
   "outputs": [
    {
     "name": "stderr",
     "output_type": "stream",
     "text": [
      "/home/nick/.local/lib/python3.7/site-packages/ipykernel_launcher.py:1: SettingWithCopyWarning: \n",
      "A value is trying to be set on a copy of a slice from a DataFrame.\n",
      "Try using .loc[row_indexer,col_indexer] = value instead\n",
      "\n",
      "See the caveats in the documentation: http://pandas.pydata.org/pandas-docs/stable/user_guide/indexing.html#returning-a-view-versus-a-copy\n",
      "  \"\"\"Entry point for launching an IPython kernel.\n"
     ]
    }
   ],
   "source": [
    "comparative_sentences['max'] = classification_results[classification_results['max'] != 'NONE']['max']"
   ]
  },
  {
   "cell_type": "code",
   "execution_count": 13,
   "metadata": {
    "scrolled": false
   },
   "outputs": [
    {
     "data": {
      "text/html": [
       "<div>\n",
       "<style scoped>\n",
       "    .dataframe tbody tr th:only-of-type {\n",
       "        vertical-align: middle;\n",
       "    }\n",
       "\n",
       "    .dataframe tbody tr th {\n",
       "        vertical-align: top;\n",
       "    }\n",
       "\n",
       "    .dataframe thead th {\n",
       "        text-align: right;\n",
       "    }\n",
       "</style>\n",
       "<table border=\"1\" class=\"dataframe\">\n",
       "  <thead>\n",
       "    <tr style=\"text-align: right;\">\n",
       "      <th></th>\n",
       "      <th>object_a</th>\n",
       "      <th>object_b</th>\n",
       "      <th>sentence</th>\n",
       "      <th>max</th>\n",
       "    </tr>\n",
       "  </thead>\n",
       "  <tbody>\n",
       "    <tr>\n",
       "      <td>144</td>\n",
       "      <td>python</td>\n",
       "      <td>java</td>\n",
       "      <td>python than for java.</td>\n",
       "      <td>BETTER</td>\n",
       "    </tr>\n",
       "    <tr>\n",
       "      <td>296</td>\n",
       "      <td>python</td>\n",
       "      <td>java</td>\n",
       "      <td>Python, instead of Java).</td>\n",
       "      <td>BETTER</td>\n",
       "    </tr>\n",
       "    <tr>\n",
       "      <td>459</td>\n",
       "      <td>java</td>\n",
       "      <td>python</td>\n",
       "      <td>Java was compared to Python.</td>\n",
       "      <td>BETTER</td>\n",
       "    </tr>\n",
       "    <tr>\n",
       "      <td>464</td>\n",
       "      <td>java</td>\n",
       "      <td>python</td>\n",
       "      <td>Java 8X Faster than Python</td>\n",
       "      <td>BETTER</td>\n",
       "    </tr>\n",
       "    <tr>\n",
       "      <td>481</td>\n",
       "      <td>java</td>\n",
       "      <td>python</td>\n",
       "      <td>Java 5.3X Faster than Python</td>\n",
       "      <td>BETTER</td>\n",
       "    </tr>\n",
       "    <tr>\n",
       "      <td>...</td>\n",
       "      <td>...</td>\n",
       "      <td>...</td>\n",
       "      <td>...</td>\n",
       "      <td>...</td>\n",
       "    </tr>\n",
       "    <tr>\n",
       "      <td>5232</td>\n",
       "      <td>java</td>\n",
       "      <td>python</td>\n",
       "      <td>(At this point, I know more Java than Python.)</td>\n",
       "      <td>BETTER</td>\n",
       "    </tr>\n",
       "    <tr>\n",
       "      <td>5274</td>\n",
       "      <td>python</td>\n",
       "      <td>java</td>\n",
       "      <td>throw a Python RuntimeError instead of a Java ...</td>\n",
       "      <td>BETTER</td>\n",
       "    </tr>\n",
       "    <tr>\n",
       "      <td>5309</td>\n",
       "      <td>java</td>\n",
       "      <td>python</td>\n",
       "      <td>I'm writing this project in Java instead of Py...</td>\n",
       "      <td>BETTER</td>\n",
       "    </tr>\n",
       "    <tr>\n",
       "      <td>5328</td>\n",
       "      <td>java</td>\n",
       "      <td>python</td>\n",
       "      <td>Java is a whole lot more predictible than Python.</td>\n",
       "      <td>BETTER</td>\n",
       "    </tr>\n",
       "    <tr>\n",
       "      <td>5436</td>\n",
       "      <td>python</td>\n",
       "      <td>java</td>\n",
       "      <td>I know Python but would have to learn Java.</td>\n",
       "      <td>WORSE</td>\n",
       "    </tr>\n",
       "  </tbody>\n",
       "</table>\n",
       "<p>109 rows × 4 columns</p>\n",
       "</div>"
      ],
      "text/plain": [
       "     object_a object_b                                           sentence  \\\n",
       "144    python     java                              python than for java.   \n",
       "296    python     java                          Python, instead of Java).   \n",
       "459      java   python                       Java was compared to Python.   \n",
       "464      java   python                         Java 8X Faster than Python   \n",
       "481      java   python                       Java 5.3X Faster than Python   \n",
       "...       ...      ...                                                ...   \n",
       "5232     java   python     (At this point, I know more Java than Python.)   \n",
       "5274   python     java  throw a Python RuntimeError instead of a Java ...   \n",
       "5309     java   python  I'm writing this project in Java instead of Py...   \n",
       "5328     java   python  Java is a whole lot more predictible than Python.   \n",
       "5436   python     java        I know Python but would have to learn Java.   \n",
       "\n",
       "         max  \n",
       "144   BETTER  \n",
       "296   BETTER  \n",
       "459   BETTER  \n",
       "464   BETTER  \n",
       "481   BETTER  \n",
       "...      ...  \n",
       "5232  BETTER  \n",
       "5274  BETTER  \n",
       "5309  BETTER  \n",
       "5328  BETTER  \n",
       "5436   WORSE  \n",
       "\n",
       "[109 rows x 4 columns]"
      ]
     },
     "execution_count": 13,
     "metadata": {},
     "output_type": "execute_result"
    }
   ],
   "source": [
    "comparative_sentences"
   ]
  },
  {
   "cell_type": "markdown",
   "metadata": {},
   "source": [
    "## Getting aspects from gathered sentences"
   ]
  },
  {
   "cell_type": "markdown",
   "metadata": {},
   "source": [
    "### Keywords approach\n",
    "We unite the sentences into a single document and look for keywords in that document using PKE"
   ]
  },
  {
   "cell_type": "code",
   "execution_count": 14,
   "metadata": {},
   "outputs": [],
   "source": [
    "text = prepared_sentences[classification_results['max'] != 'NONE']['sentence'].str.cat(sep=' ')"
   ]
  },
  {
   "cell_type": "code",
   "execution_count": 15,
   "metadata": {},
   "outputs": [],
   "source": [
    "extractor = MultipartiteRank()\n",
    "extractor.load_document(input=text, language=\"en\", normalization='stemming')\n",
    "\n",
    "extractor.candidate_selection(pos={'NOUN', 'PROPN', 'ADJ'})\n",
    "\n",
    "extractor.candidate_weighting()\n",
    "\n",
    "keyphrases = extractor.get_n_best(n=-1, stemming=False)"
   ]
  },
  {
   "cell_type": "markdown",
   "metadata": {},
   "source": [
    "Here are our keyphrases"
   ]
  },
  {
   "cell_type": "code",
   "execution_count": 16,
   "metadata": {},
   "outputs": [
    {
     "data": {
      "text/plain": [
       "[('python', 0.21740087945740835),\n",
       " ('java', 0.20172378798161344),\n",
       " ('faster', 0.02199726877605206),\n",
       " ('easier', 0.015883211094384012),\n",
       " ('way', 0.013088053043287619),\n",
       " ('python language evolution', 0.010611863513849734),\n",
       " ('slower', 0.010320595937476522),\n",
       " ('ruby', 0.010157464142227231),\n",
       " ('better', 0.010148856677091601),\n",
       " ('java programs', 0.009231769250017077),\n",
       " ('closer', 0.00888508329537028),\n",
       " ('older', 0.008628973281021765),\n",
       " ('scala performance', 0.008472943343755849),\n",
       " ('apps', 0.007675049092989409),\n",
       " ('shorter', 0.007367731815362034),\n",
       " ('simpler syntax', 0.0061869071317006245),\n",
       " ('longer time', 0.006179509018187798),\n",
       " ('concurrency', 0.005954445648699867),\n",
       " ('market share', 0.005928308780750451),\n",
       " ('popular', 0.005912019937246259),\n",
       " ('syntax', 0.005815970756635444),\n",
       " ('old python book', 0.005602751898790517),\n",
       " ('times', 0.005590342170612456),\n",
       " ('hell', 0.0055837438352847255),\n",
       " ('rapid application development', 0.0055411411414709975),\n",
       " ('worse', 0.005518487496112234),\n",
       " ('code samples', 0.005485552746991293),\n",
       " ('harder', 0.0054828937610383165),\n",
       " ('way java', 0.005447541995663451),\n",
       " ('libraries', 0.005245815337093332),\n",
       " ('smaller', 0.005199647680687871),\n",
       " ('bytecodes', 0.0051768922677611195),\n",
       " ('complex one', 0.005116751955898705),\n",
       " ('late binding', 0.005008391923237305),\n",
       " ('lot', 0.004986690660009123),\n",
       " ('possible', 0.004967199274148993),\n",
       " ('python runtime', 0.004328145030011821),\n",
       " ('afaik', 0.0042087038035929555),\n",
       " ('python code', 0.0041540168291815715),\n",
       " ('btw', 0.004113125199958904),\n",
       " ('peps', 0.003949602521492866),\n",
       " ('jcp', 0.0039454459517674675),\n",
       " ('python ones', 0.003862066071869317),\n",
       " ('psf', 0.003829196657282236),\n",
       " ('jsr', 0.003803077231535363),\n",
       " ('inferior', 0.003794888744748805),\n",
       " ('longer', 0.003750199270882732),\n",
       " ('language', 0.003726966869353484),\n",
       " ('tcl', 0.003725808471677037),\n",
       " ('people', 0.003718039487532913),\n",
       " ('like', 0.003633108679600914),\n",
       " ('normal', 0.003616954013806899),\n",
       " ('dalvik', 0.003586737765407607),\n",
       " ('performance', 0.0035780599339024052),\n",
       " ('simple', 0.003550134968157561),\n",
       " ('net', 0.0035426773078358637),\n",
       " ('compiles', 0.0035424437404694194),\n",
       " ('compliant', 0.0035070654920472785),\n",
       " ('nokia', 0.0034957916959296818),\n",
       " ('guy', 0.003478135822735216),\n",
       " ('python memory model', 0.003449584635292748),\n",
       " ('compact', 0.0034245691988695013),\n",
       " ('verbose', 0.0034149341312091058),\n",
       " ('many ways', 0.003361932898997096),\n",
       " ('backing', 0.003355150680751065),\n",
       " ('mature', 0.0033420181769066274),\n",
       " ('share', 0.003338148676395652),\n",
       " ('capable', 0.0033295949588007063),\n",
       " ('tasks', 0.0033243773032087206),\n",
       " ('simpler', 0.0033148655320881524),\n",
       " ('java first', 0.0033050174831521476),\n",
       " ('optimized version', 0.003302729147704198),\n",
       " ('expressive language', 0.0033012420919588726),\n",
       " ('acceptance', 0.0032988348040003525),\n",
       " ('significant advantages', 0.0032644245509857238),\n",
       " ('least', 0.003212593581222836),\n",
       " ('mission', 0.0031978439924416876),\n",
       " ('java memory management', 0.0031951001321429786),\n",
       " ('mixed blessing', 0.0031834277018261427),\n",
       " ('little', 0.003178069501335817),\n",
       " ('java performance wise', 0.003178057835849011),\n",
       " ('--include', 0.0031735567318043893),\n",
       " ('security', 0.0031718859121035547),\n",
       " ('jee', 0.0031610503695769505),\n",
       " ('old', 0.0031583050679157734),\n",
       " ('benefit', 0.0031482556317959346),\n",
       " ('general', 0.0031460505936922035),\n",
       " ('j2me', 0.0031263354540249084),\n",
       " ('critical apps', 0.00312304500907177),\n",
       " ('posse', 0.00310950346464212),\n",
       " ('developers', 0.0031087174264942345),\n",
       " ('python syntax', 0.003106611010609169),\n",
       " ('part', 0.0030914369871471938),\n",
       " ('python programs', 0.003082231682645036),\n",
       " ('technically', 0.003079862675393321),\n",
       " ('site', 0.0030686566122545664),\n",
       " ('exploits', 0.0030520795602289787),\n",
       " ('fast', 0.0030494188958918463),\n",
       " ('perl', 0.003046985356478511),\n",
       " ('equivalent java program', 0.003033933599972522),\n",
       " ('much', 0.0030305529350559183),\n",
       " ('boeing', 0.00302689128451847),\n",
       " ('source', 0.0030143431054179153),\n",
       " ('10x shorter', 0.003005128189506227),\n",
       " ('stronger', 0.002999775782762279),\n",
       " ('typical java apps', 0.0029767746142707087),\n",
       " ('common', 0.0029690643101382935),\n",
       " ('smalltalk', 0.0029563240210281503),\n",
       " ('higher', 0.002941237941193691),\n",
       " ('contrast', 0.002936514704744233),\n",
       " ('byte', 0.0029212272242991853),\n",
       " ('perils', 0.002908060450213169),\n",
       " ('predictible', 0.002889939828503522),\n",
       " ('java xml libraries', 0.002882100723709761),\n",
       " ('python version', 0.00288141204697885),\n",
       " ('whole lot', 0.0028566147423871053),\n",
       " ('code', 0.002851638711931375),\n",
       " ('java kind', 0.002825157502754046),\n",
       " ('javascript', 0.0028242987693404306),\n",
       " ('equivalent python programs', 0.00282259211588026),\n",
       " ('polymorphism', 0.0028129789728916976),\n",
       " ('first language', 0.0027828383998268133),\n",
       " ('java classes', 0.002759081612947951),\n",
       " ('impossible', 0.0027173611603494323),\n",
       " ('java programmers', 0.0027096658332290083),\n",
       " ('project', 0.00270031820136506),\n",
       " ('python ide tools', 0.0026701041513174347),\n",
       " ('python jobs', 0.0026268635198124987),\n",
       " ('easier ways', 0.0026262105184285656),\n",
       " ('python designers', 0.0025688389159763516),\n",
       " ('dynamic python', 0.0025447782450322724),\n",
       " ('point', 0.0025215667550528365),\n",
       " ('java guis', 0.0023998859095559913),\n",
       " ('java stackoverflowerror', 0.0022514346733170745),\n",
       " ('python java 8x', 0.002241814957638954),\n",
       " ('java 8x', 0.0021892362751765645),\n",
       " ('python runtimeerror', 0.0020530256118361976)]"
      ]
     },
     "execution_count": 16,
     "metadata": {},
     "output_type": "execute_result"
    }
   ],
   "source": [
    "keyphrases"
   ]
  },
  {
   "cell_type": "markdown",
   "metadata": {},
   "source": [
    "Most of the keyphrases don't look like aspects we need. To extract the needed aspects we use a classifier which is trained to find good aspects."
   ]
  },
  {
   "cell_type": "markdown",
   "metadata": {},
   "source": [
    "## Aspect classifier"
   ]
  },
  {
   "cell_type": "markdown",
   "metadata": {},
   "source": [
    "Loading and preprocessing sentences for training the classifier"
   ]
  },
  {
   "cell_type": "code",
   "execution_count": 17,
   "metadata": {},
   "outputs": [],
   "source": [
    "import pandas as pd\n",
    "\n",
    "names = [\"OBJECT A\", \"OBJECT B\", \"ASPECT\", \"MOST FREQUENT RATING\", \"SENTENCE\"]\n",
    "df_train = pd.read_csv(\"classification_fine_grained/train_clf_fine_grained.csv\", header=None, names=names)\n",
    "df_test = pd.read_csv(\"classification_fine_grained/test_clf_fine_grained.csv\", header=None, names=names)\n",
    "df_dev = pd.read_csv(\"classification_fine_grained/dev_clf_fine_grained.csv\", header=None, names=names)\n",
    "\n",
    "import string\n",
    "import nltk\n",
    "from nltk.corpus import stopwords\n",
    "from nltk.stem import WordNetLemmatizer\n",
    "\n",
    "\n",
    "def get_list_of_tokens(df_texts):\n",
    "    stop_words=set(stopwords.words('english'))\n",
    "    wordnet_lemmatizer = WordNetLemmatizer()\n",
    "    tokens = []\n",
    "    texts = df_texts[\"SENTENCE\"].values\n",
    "    for i in range(len(texts)):\n",
    "        row = texts[i]\n",
    "        # remove punctuation\n",
    "        for ch in string.punctuation:\n",
    "            row = row.replace(ch, \" \")\n",
    "        row = row.replace(\"   \", \" \")\n",
    "        row = row.replace(\"  \", \" \")\n",
    "        temp_line = []\n",
    "        # remove stop words\n",
    "        for word in row.split():\n",
    "            if word not in stop_words:\n",
    "                temp_line.append(word)\n",
    "        row = ' '.join(temp_line)\n",
    "        # lemmatization\n",
    "        temp_line = []\n",
    "        for word in row.split():\n",
    "            temp_line.append(wordnet_lemmatizer.lemmatize(word))\n",
    "        tokens.append(temp_line)\n",
    "    return tokens\n",
    "\n",
    "tokens_test = get_list_of_tokens(df_test)\n",
    "tokens_train = get_list_of_tokens(df_train)\n",
    "tokens_dev = get_list_of_tokens(df_dev)\n",
    "\n",
    "df_train['TOKENS'] = pd.Series(tokens_train)\n",
    "df_dev['TOKENS'] = pd.Series(tokens_dev)\n",
    "df_test['TOKENS'] = pd.Series(tokens_test)"
   ]
  },
  {
   "cell_type": "markdown",
   "metadata": {},
   "source": [
    "To vectorise the sentences we use Word2Vec:  \n",
    "Input of the classifier is a concatenation of 4 embeddings:\n",
    "- object a embedding\n",
    "- object b embedding\n",
    "- aspect embedding\n",
    "- sentence embedding  \n",
    "\n",
    "For sentence embedding we use mean of embeddings of its words.  \n",
    "So, considering w2v dimensionality, we have vecctors of size 1200 as an input."
   ]
  },
  {
   "cell_type": "code",
   "execution_count": 18,
   "metadata": {},
   "outputs": [],
   "source": [
    "w2v_model = gensim.models.KeyedVectors.load_word2vec_format('GoogleNews-vectors-negative300.bin', binary=True)"
   ]
  },
  {
   "cell_type": "code",
   "execution_count": 19,
   "metadata": {},
   "outputs": [],
   "source": [
    "def create_sentence_embeddings(model, words_list):\n",
    "    sentence_embedding = []\n",
    "    for word in words_list:\n",
    "        try:\n",
    "            sentence_embedding.append(model[word])\n",
    "        except KeyError:\n",
    "            continue\n",
    "#             print(word + \" is not in the vocabulary, skipping...\")\n",
    "    if len(sentence_embedding) == 0:\n",
    "        sentence_embedding.append(np.zeros(300))\n",
    "    return np.array(sentence_embedding)\n",
    "\n",
    "def to_w2v_matrix(df_data, model):\n",
    "    sent_embs = np.zeros([df_data.shape[0], 300 * 4], dtype='float32')\n",
    "    for i in range(df_data.shape[0]):\n",
    "        object_a_embedding = create_sentence_embeddings(model, df_data[\"OBJECT A\"][i].split()).mean(axis=0)\n",
    "        object_b_embedding = create_sentence_embeddings(model, df_data[\"OBJECT B\"][i].split()).mean(axis=0)\n",
    "        aspect_embedding = create_sentence_embeddings(model, df_data[\"ASPECT\"][i].split()).mean(axis=0)\n",
    "        sentence_embedding = create_sentence_embeddings(model, df_data[\"TOKENS\"][i]).mean(axis=0)\n",
    "        sent_embs[i, :] = np.concatenate((object_a_embedding, object_b_embedding, aspect_embedding, sentence_embedding), axis=0)\n",
    "    return sent_embs\n",
    "\n",
    "X_train = to_w2v_matrix(df_train, w2v_model)\n",
    "X_dev = to_w2v_matrix(df_dev, w2v_model)\n",
    "X_test = to_w2v_matrix(df_test, w2v_model)"
   ]
  },
  {
   "cell_type": "code",
   "execution_count": 20,
   "metadata": {},
   "outputs": [],
   "source": [
    "def get_output_for_binary(data):\n",
    "    return (data['MOST FREQUENT RATING'] != 'BAD').astype('float32').to_numpy()\n",
    "\n",
    "y_train = get_output_for_binary(df_train)\n",
    "y_dev = get_output_for_binary(df_dev)\n",
    "y_test = get_output_for_binary(df_test)"
   ]
  },
  {
   "cell_type": "code",
   "execution_count": 21,
   "metadata": {},
   "outputs": [],
   "source": [
    "from sklearn.metrics import accuracy_score\n",
    "from sklearn.metrics import precision_score\n",
    "from sklearn.metrics import recall_score\n",
    "from sklearn.metrics import f1_score\n",
    "from sklearn.metrics import classification_report\n",
    "\n",
    "def report_scores(model, X, y):\n",
    "    y_pred = model.predict(X)\n",
    "    acc = accuracy_score(y, y_pred)\n",
    "    pr = precision_score(y, y_pred, average='weighted')\n",
    "    re = recall_score(y, y_pred, average='weighted')\n",
    "    f1 = f1_score(y, y_pred, average='weighted')\n",
    "    f1_bad, f1_good = f1_score(y, y_pred, average=None)\n",
    "    print(\"Accuracy: {:.2f}\".format(acc * 100))\n",
    "    print(\"Precision: {:.2f}\".format(pr * 100))\n",
    "    print(\"Recall: {:.2f}\".format(re * 100))\n",
    "    print(\"F1: {:.2f}\".format(f1 * 100))\n",
    "    print(\"F1 GOOD: {:.2f}\".format(f1_good * 100))\n",
    "    print(\"F1 BAD: {:.2f}\".format(f1_bad * 100))"
   ]
  },
  {
   "cell_type": "markdown",
   "metadata": {},
   "source": [
    "Training the classifier: Support Vector Classifier with a linear kernel."
   ]
  },
  {
   "cell_type": "code",
   "execution_count": 22,
   "metadata": {},
   "outputs": [
    {
     "name": "stdout",
     "output_type": "stream",
     "text": [
      "start of fit\n",
      "Train\n",
      "Accuracy: 96.41\n",
      "Precision: 96.44\n",
      "Recall: 96.41\n",
      "F1: 96.41\n",
      "F1 GOOD: 96.21\n",
      "F1 BAD: 96.59\n",
      "Dev\n",
      "Accuracy: 78.74\n",
      "Precision: 78.72\n",
      "Recall: 78.74\n",
      "F1: 78.72\n",
      "F1 GOOD: 80.48\n",
      "F1 BAD: 76.67\n"
     ]
    }
   ],
   "source": [
    "from sklearn.svm import SVC\n",
    "\n",
    "model = SVC(kernel='linear', gamma='auto')\n",
    "\n",
    "print(\"start of fit\")\n",
    "model.fit(X_train, y_train)\n",
    "\n",
    "# Evaluation\n",
    "print(\"Train\")\n",
    "report_scores(model, X_train, y_train)\n",
    "\n",
    "print(\"Dev\")\n",
    "report_scores(model, X_dev, y_dev)"
   ]
  },
  {
   "cell_type": "code",
   "execution_count": 23,
   "metadata": {},
   "outputs": [
    {
     "name": "stdout",
     "output_type": "stream",
     "text": [
      "Test\n",
      "Accuracy: 81.91\n",
      "Precision: 81.99\n",
      "Recall: 81.91\n",
      "F1: 81.89\n",
      "F1 GOOD: 82.43\n",
      "F1 BAD: 81.36\n"
     ]
    }
   ],
   "source": [
    "# Evaluation\n",
    "print(\"Test\")\n",
    "report_scores(model, X_test, y_test)"
   ]
  },
  {
   "cell_type": "markdown",
   "metadata": {},
   "source": [
    "Now we have trained a classifier and are going to process our keyphrases."
   ]
  },
  {
   "cell_type": "markdown",
   "metadata": {},
   "source": [
    "To process the keyphrases we need a separate dataframe with sentences for each aspect (keyphrase)."
   ]
  },
  {
   "cell_type": "code",
   "execution_count": 24,
   "metadata": {},
   "outputs": [],
   "source": [
    "asp_df = pd.DataFrame(columns=['OBJECT A', 'OBJECT B', 'ASPECT', 'SENTENCE', 'max'])\n",
    "forbidden_phrases = [obj_a.name, obj_b.name, 'better', 'worse']\n",
    "\n",
    "for index, row in comparative_sentences.iterrows():\n",
    "    sentence = row['sentence']\n",
    "    for (keyphrase, score) in keyphrases:\n",
    "        skip_keyphrase = False\n",
    "        for phrase in forbidden_phrases:\n",
    "            if keyphrase == phrase:\n",
    "                skip_keyphrase = True\n",
    "                break\n",
    "        if not skip_keyphrase:\n",
    "            if keyphrase in sentence:\n",
    "                asp_df = asp_df.append(\n",
    "                    {'OBJECT A': row['object_a'],\n",
    "                     'OBJECT B': row['object_b'],\n",
    "                     'ASPECT': keyphrase,\n",
    "                     'SENTENCE': row['sentence'],\n",
    "                     'max': row['max'],\n",
    "                    }, ignore_index=True)"
   ]
  },
  {
   "cell_type": "code",
   "execution_count": 25,
   "metadata": {},
   "outputs": [],
   "source": [
    "asp_df['TOKENS'] = pd.Series(get_list_of_tokens(asp_df))"
   ]
  },
  {
   "cell_type": "code",
   "execution_count": 26,
   "metadata": {},
   "outputs": [],
   "source": [
    "X_asp = to_w2v_matrix(asp_df, w2v_model)"
   ]
  },
  {
   "cell_type": "markdown",
   "metadata": {},
   "source": [
    "Applying classifier"
   ]
  },
  {
   "cell_type": "code",
   "execution_count": 27,
   "metadata": {},
   "outputs": [],
   "source": [
    "y_pred = model.predict(X_asp)"
   ]
  },
  {
   "cell_type": "markdown",
   "metadata": {},
   "source": [
    "The aspects left after classifier"
   ]
  },
  {
   "cell_type": "code",
   "execution_count": 28,
   "metadata": {},
   "outputs": [],
   "source": [
    "aspects = asp_df.iloc[np.nonzero(y_pred)[0].tolist()]['ASPECT'].unique()"
   ]
  },
  {
   "cell_type": "code",
   "execution_count": 29,
   "metadata": {},
   "outputs": [
    {
     "data": {
      "text/plain": [
       "array(['faster', 'easier', 'apps', 'simpler syntax', 'syntax', 'simpler',\n",
       "       'performance', 'slower', 'easier ways'], dtype=object)"
      ]
     },
     "execution_count": 29,
     "metadata": {},
     "output_type": "execute_result"
    }
   ],
   "source": [
    "aspects"
   ]
  },
  {
   "cell_type": "markdown",
   "metadata": {},
   "source": [
    "Top 10 keyphrases for comparison"
   ]
  },
  {
   "cell_type": "code",
   "execution_count": 30,
   "metadata": {
    "scrolled": true
   },
   "outputs": [
    {
     "data": {
      "text/plain": [
       "[('python', 0.21740087945740835),\n",
       " ('java', 0.20172378798161344),\n",
       " ('faster', 0.02199726877605206),\n",
       " ('easier', 0.015883211094384012),\n",
       " ('way', 0.013088053043287619),\n",
       " ('python language evolution', 0.010611863513849734),\n",
       " ('slower', 0.010320595937476522),\n",
       " ('ruby', 0.010157464142227231),\n",
       " ('better', 0.010148856677091601),\n",
       " ('java programs', 0.009231769250017077)]"
      ]
     },
     "execution_count": 30,
     "metadata": {},
     "output_type": "execute_result"
    }
   ],
   "source": [
    "keyphrases[:10]"
   ]
  },
  {
   "cell_type": "markdown",
   "metadata": {},
   "source": [
    "## Determining winner"
   ]
  },
  {
   "cell_type": "markdown",
   "metadata": {},
   "source": [
    "First, we need to specify which aspects belong to which object."
   ]
  },
  {
   "cell_type": "code",
   "execution_count": 31,
   "metadata": {},
   "outputs": [],
   "source": [
    "obj_a_aspects = []\n",
    "obj_b_aspects = []\n",
    "for aspect in aspects:\n",
    "    rows = asp_df[asp_df['ASPECT']==aspect]\n",
    "    if obj_a.name == rows.iloc[0]['OBJECT A']:\n",
    "        obj_a_aspects.append(aspect)\n",
    "    else:\n",
    "        obj_b_aspects.append(aspect)"
   ]
  },
  {
   "cell_type": "code",
   "execution_count": 32,
   "metadata": {
    "scrolled": false
   },
   "outputs": [
    {
     "data": {
      "text/plain": [
       "['easier',\n",
       " 'apps',\n",
       " 'simpler syntax',\n",
       " 'syntax',\n",
       " 'simpler',\n",
       " 'performance',\n",
       " 'slower',\n",
       " 'easier ways']"
      ]
     },
     "execution_count": 32,
     "metadata": {},
     "output_type": "execute_result"
    }
   ],
   "source": [
    "obj_a_aspects"
   ]
  },
  {
   "cell_type": "code",
   "execution_count": 33,
   "metadata": {
    "scrolled": true
   },
   "outputs": [
    {
     "data": {
      "text/plain": [
       "['faster']"
      ]
     },
     "execution_count": 33,
     "metadata": {},
     "output_type": "execute_result"
    }
   ],
   "source": [
    "obj_b_aspects"
   ]
  },
  {
   "cell_type": "markdown",
   "metadata": {},
   "source": [
    "The winner of comparison is the object which has more aspects."
   ]
  },
  {
   "cell_type": "code",
   "execution_count": 34,
   "metadata": {},
   "outputs": [],
   "source": [
    "comparing_pair = {}"
   ]
  },
  {
   "cell_type": "code",
   "execution_count": 35,
   "metadata": {},
   "outputs": [],
   "source": [
    "if len(obj_a_aspects) > len(obj_b_aspects):\n",
    "    comparing_pair['winner_aspects'] = obj_a_aspects\n",
    "    comparing_pair['loser_aspects'] = obj_b_aspects\n",
    "    comparing_pair['winner'] = obj_a.name\n",
    "    comparing_pair['loser'] = obj_b.name\n",
    "else:\n",
    "    comparing_pair['winner_aspects'] = obj_b_aspects\n",
    "    comparing_pair['loser_aspects'] = obj_a_aspects\n",
    "    comparing_pair['winner'] = obj_b.name\n",
    "    comparing_pair['loser'] = obj_a.name"
   ]
  },
  {
   "cell_type": "markdown",
   "metadata": {},
   "source": [
    "## Generating response"
   ]
  },
  {
   "cell_type": "markdown",
   "metadata": {},
   "source": [
    "Using templates"
   ]
  },
  {
   "cell_type": "code",
   "execution_count": 36,
   "metadata": {},
   "outputs": [],
   "source": [
    "from template_generation.template_generation import generate_template"
   ]
  },
  {
   "cell_type": "code",
   "execution_count": 37,
   "metadata": {
    "scrolled": true
   },
   "outputs": [
    {
     "data": {
      "text/plain": [
       "'after much thought, I realized that  python is better, because: first, easier, second, apps, third, simpler syntax, fourth, syntax, fifth, simpler, sixth, performance, seventh, slower, eighth, easier ways. But it will be useful for you to know that java is: faster'"
      ]
     },
     "execution_count": 37,
     "metadata": {},
     "output_type": "execute_result"
    }
   ],
   "source": [
    "generate_template(comparing_pair, mode=\"extended\")"
   ]
  },
  {
   "cell_type": "markdown",
   "metadata": {},
   "source": [
    "Getting a brief summary using text rank."
   ]
  },
  {
   "cell_type": "code",
   "execution_count": 38,
   "metadata": {},
   "outputs": [],
   "source": [
    "from gensim.summarization.textcleaner import split_sentences\n",
    "from gensim.summarization.summarizer import summarize"
   ]
  },
  {
   "cell_type": "code",
   "execution_count": 39,
   "metadata": {},
   "outputs": [],
   "source": [
    "rows = asp_df[asp_df.ASPECT.isin(aspects)]"
   ]
  },
  {
   "cell_type": "code",
   "execution_count": 40,
   "metadata": {},
   "outputs": [],
   "source": [
    "sentences = \"\"\n",
    "for row in range (rows.shape[0]):\n",
    "    sentence = asp_df.iloc[row]['SENTENCE'] + \" \"\n",
    "    if sentence not in sentences:\n",
    "        sentences += sentence"
   ]
  },
  {
   "cell_type": "code",
   "execution_count": 41,
   "metadata": {},
   "outputs": [],
   "source": [
    "if len(split_sentences(sentences)) > 10:\n",
    "    summary = str(summarize(sentences, split=False, word_count=30))"
   ]
  },
  {
   "cell_type": "code",
   "execution_count": 42,
   "metadata": {},
   "outputs": [
    {
     "name": "stdout",
     "output_type": "stream",
     "text": [
      "Python runs slower than Java .\n",
      "Java has way more market penetration than Python.\n",
      "Python is actually older than Java.\n",
      "Java is faster, while python is .\n"
     ]
    }
   ],
   "source": [
    "print(summary)"
   ]
  }
 ],
 "metadata": {
  "kernelspec": {
   "display_name": "Python 3",
   "language": "python",
   "name": "python3"
  },
  "language_info": {
   "codemirror_mode": {
    "name": "ipython",
    "version": 3
   },
   "file_extension": ".py",
   "mimetype": "text/x-python",
   "name": "python",
   "nbconvert_exporter": "python",
   "pygments_lexer": "ipython3",
   "version": "3.7.5"
  }
 },
 "nbformat": 4,
 "nbformat_minor": 2
}
