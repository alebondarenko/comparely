{
 "cells": [
  {
   "cell_type": "code",
   "execution_count": 31,
   "metadata": {},
   "outputs": [
    {
     "name": "stdout",
     "output_type": "stream",
     "text": [
      "what is the coldest temperature recorded in new york state\n",
      "what is the tallest tower in the uk\n",
      "what is the number one watched disney movie\n",
      "which is higher chief of police or sheriff\n",
      "who has been around longer coke or pepsi\n",
      "what is the purest form of the bible\n",
      "what is the most important gas in the greenhouse effect\n",
      "what is the difference between southern and northern hemisphere\n",
      "what is the busiest hurricane season on record\n",
      "who has sold the highest number of albums\n",
      "who was the youngest person to be elected president of the indian national congress\n",
      "advantages of gas laser over solid state laser\n",
      "who has more el clasico goals messi or ronaldo\n",
      "who has the most elimination wins in challenge history\n",
      "who has the most pga tour wins in a season\n",
      "who has more international goals messi or ronaldo\n",
      "who was the first official president of the united states\n",
      "advantages of linked list over array in data structure\n",
      "who is the highest paid athlete in the mlb\n",
      "who is the first woman boxer to be honoured with the rajiv\n",
      "who was the first player in bb history to return to the game after being evicted\n",
      "who was the most popular president of the united states\n",
      "the countries with the largest reserves of natural gas are\n",
      "who is the longest running character on general hospital\n",
      "who was the first person found not guilty by reason of insanity\n",
      "who has won more championships duke or kansas\n",
      "the most recent addition to the texas bill of rights\n",
      "the first intelligence test to include a non-verbal scale as a measure of human intelligence\n",
      "how is the climate along the coast different from the climate in the great basin\n",
      "who made the first tv in the world\n",
      "who landed on the moon for the first time\n",
      "who was the most decorated soldier of ww2\n",
      "who did the patriots play first this season\n",
      "longest winning streaks in major league baseball history\n",
      "who was the first actor who played james bond\n",
      "which gases make up the largest percentage of earth's atmosphere\n",
      "what is the largest national park in australia\n",
      "largest country in the world by land area\n",
      "what's the biggest stadium in the us\n",
      "who is said to be the first modern archaeologist\n",
      "who has the most all ireland hurling titles\n",
      "who is oldest living baseball hall of famer\n",
      "what came out first age of ultron or civil war\n",
      "who is the lowest paid player in the nhl\n",
      "who is the youngest person on the supreme court\n",
      "lake chad’s water level was lowest in\n",
      "first person to climb mount everest of india\n",
      "who was the oldest supreme court justice ever\n",
      "who holds the record for speaking the most languages\n",
      "who was the youngest when they became the full-time host of the tonight show\n",
      "why was france considered the most advanced country in europe\n",
      "what's the difference between the eye of ra and the eye of horus\n",
      "barcelona vs real madrid who has more wins\n",
      "what came first breaking bad or better call saul\n",
      "what is the most popular religion in uk\n",
      "what are the waves in order from smallest to biggest\n",
      "what is the difference between c13 and c14\n",
      "what is the most common bible translation in english\n",
      "who has scored most goals in international football\n",
      "what type of rainfall is more common in india and why\n",
      "difference between full can and empty can test\n",
      "what do the economic systems of the uk germany and russia have in common\n",
      "who was the first serial killer in america\n",
      "what is the difference between a corbel and a bracket\n",
      "what's the difference between 380 acp and 380 auto\n",
      "who has had the shortest reign of the nine irish presidents to date\n",
      "who has the highest fg percentage in the nba\n"
     ]
    }
   ],
   "source": [
    "import pandas as pd\n",
    "comparation_question = []\n",
    "data_gn = pd.read_csv(\"google-questions-annotated.csv\", sep='\\t') \n",
    "data_gn.head()\n",
    "for quest, comp in zip(data_gn['question'].values, data_gn['comp'].values):\n",
    "    if (comp == 1.0):\n",
    "        print (quest)\n",
    "        comparation_question.append(quest)"
   ]
  },
  {
   "cell_type": "code",
   "execution_count": 32,
   "metadata": {},
   "outputs": [],
   "source": [
    "import json\n",
    "import gzip\n",
    "import random\n",
    "import os\n",
    "from tqdm import tqdm\n",
    "\n",
    "from preprocess_help import _generate_examples\n",
    "    \n",
    "def _create_short_answer_examples(input_path):\n",
    "    \"\"\"rewriting google functionality\"\"\"\n",
    "    input_basename = os.path.basename(input_path)\n",
    "    print (\"Converting examples in %s to tf.Examples.\", input_path)\n",
    "    with gzip.GzipFile(input_path, \"rb\") as input_file:\n",
    "        str_ = _generate_tf_examples(input_file)"
   ]
  },
  {
   "cell_type": "code",
   "execution_count": 36,
   "metadata": {},
   "outputs": [
    {
     "name": "stderr",
     "output_type": "stream",
     "text": [
      "100%|██████████| 50/50 [00:03<00:00, 15.97it/s]\n"
     ]
    }
   ],
   "source": [
    "import pandas as pd\n",
    "df_train = pd.DataFrame(columns=['question', 'short', 'long'])\n",
    "\n",
    "common_path = '/home/vika/comparative-dialogue/comparative-dialogue/datasets/v1.0/v1.0/train/'\n",
    "\n",
    "for filename in tqdm(os.listdir(common_path)):\n",
    "    if (os.path.isfile(common_path + filename)):\n",
    "        with gzip.GzipFile(common_path + filename, 'rb') as f:\n",
    "            features = _generate_examples(f)\n",
    "            #print (features[\"question\"])\n",
    "            if (features[\"question\"] in comparation_question):\n",
    "                df_train = df_train.append({'question': features[\"question\"], 'short': features[\"short\"], 'long': features[\"long\"]}, ignore_index=True)"
   ]
  },
  {
   "cell_type": "code",
   "execution_count": 40,
   "metadata": {},
   "outputs": [
    {
     "name": "stdout",
     "output_type": "stream",
     "text": [
      "/home/vika/comparative-dialogue/comparative-dialogue/datasets\n"
     ]
    }
   ],
   "source": [
    "!pwd"
   ]
  },
  {
   "cell_type": "code",
   "execution_count": 34,
   "metadata": {},
   "outputs": [
    {
     "data": {
      "text/html": [
       "<div>\n",
       "<style scoped>\n",
       "    .dataframe tbody tr th:only-of-type {\n",
       "        vertical-align: middle;\n",
       "    }\n",
       "\n",
       "    .dataframe tbody tr th {\n",
       "        vertical-align: top;\n",
       "    }\n",
       "\n",
       "    .dataframe thead th {\n",
       "        text-align: right;\n",
       "    }\n",
       "</style>\n",
       "<table border=\"1\" class=\"dataframe\">\n",
       "  <thead>\n",
       "    <tr style=\"text-align: right;\">\n",
       "      <th></th>\n",
       "      <th>question</th>\n",
       "      <th>short</th>\n",
       "      <th>long</th>\n",
       "    </tr>\n",
       "  </thead>\n",
       "  <tbody>\n",
       "  </tbody>\n",
       "</table>\n",
       "</div>"
      ],
      "text/plain": [
       "Empty DataFrame\n",
       "Columns: [question, short, long]\n",
       "Index: []"
      ]
     },
     "execution_count": 34,
     "metadata": {},
     "output_type": "execute_result"
    }
   ],
   "source": [
    "df_train.head()"
   ]
  },
  {
   "cell_type": "code",
   "execution_count": 46,
   "metadata": {},
   "outputs": [
    {
     "name": "stderr",
     "output_type": "stream",
     "text": [
      "100%|██████████| 6/6 [00:00<00:00, 31.89it/s]\n"
     ]
    }
   ],
   "source": [
    "import pandas as pd\n",
    "df_dev = pd.DataFrame(columns=['question', 'short', 'long'])\n",
    "\n",
    "common_path = '/home/vika/comparative-dialogue/comparative-dialogue/datasets/v1.0/v1.0/dev/'\n",
    "\n",
    "for filename in tqdm(os.listdir(common_path)):\n",
    "    if (os.path.isfile(common_path + filename)):\n",
    "        with gzip.GzipFile(common_path + filename, 'rb') as f:\n",
    "            features = _generate_examples(f)\n",
    "            #print (features[\"question\"])\n",
    "            #if (features[\"question\"] in comparation_question):\n",
    "            df_dev = df_dev.append({'question': features[\"question\"], 'short': features[\"short\"], 'long': features[\"long\"]}, ignore_index=True)"
   ]
  },
  {
   "cell_type": "code",
   "execution_count": 47,
   "metadata": {},
   "outputs": [
    {
     "data": {
      "text/html": [
       "<div>\n",
       "<style scoped>\n",
       "    .dataframe tbody tr th:only-of-type {\n",
       "        vertical-align: middle;\n",
       "    }\n",
       "\n",
       "    .dataframe tbody tr th {\n",
       "        vertical-align: top;\n",
       "    }\n",
       "\n",
       "    .dataframe thead th {\n",
       "        text-align: right;\n",
       "    }\n",
       "</style>\n",
       "<table border=\"1\" class=\"dataframe\">\n",
       "  <thead>\n",
       "    <tr style=\"text-align: right;\">\n",
       "      <th></th>\n",
       "      <th>question</th>\n",
       "      <th>short</th>\n",
       "      <th>long</th>\n",
       "    </tr>\n",
       "  </thead>\n",
       "  <tbody>\n",
       "    <tr>\n",
       "      <th>0</th>\n",
       "      <td>what purpose did seasonal monsoon winds have o...</td>\n",
       "      <td>enabled European empire expansion into the Ame...</td>\n",
       "      <td>&lt;P&gt; The trade winds are the prevailing pattern...</td>\n",
       "    </tr>\n",
       "    <tr>\n",
       "      <th>1</th>\n",
       "      <td>what do the 3 dots mean in math</td>\n",
       "      <td>the therefore sign ( ∴ ) is generally used bef...</td>\n",
       "      <td>&lt;P&gt; In logical argument and mathematical proof...</td>\n",
       "    </tr>\n",
       "    <tr>\n",
       "      <th>2</th>\n",
       "      <td>what is non controlling interest on balance sheet</td>\n",
       "      <td>the portion of a subsidiary corporation 's sto...</td>\n",
       "      <td>&lt;P&gt; In accounting , minority interest ( or non...</td>\n",
       "    </tr>\n",
       "    <tr>\n",
       "      <th>3</th>\n",
       "      <td>who proposed that electrons behave like waves ...</td>\n",
       "      <td>Max Planck , Albert Einstein , Louis de Brogli...</td>\n",
       "      <td>&lt;P&gt; Through the work of Max Planck , Albert Ei...</td>\n",
       "    </tr>\n",
       "    <tr>\n",
       "      <th>4</th>\n",
       "      <td>what are the main crops grown in the united st...</td>\n",
       "      <td>Corn</td>\n",
       "      <td>&lt;Table&gt; &lt;Tr&gt; &lt;Th&gt; Major Crops in the USA &lt;/Th&gt;...</td>\n",
       "    </tr>\n",
       "  </tbody>\n",
       "</table>\n",
       "</div>"
      ],
      "text/plain": [
       "                                            question  \\\n",
       "0  what purpose did seasonal monsoon winds have o...   \n",
       "1                    what do the 3 dots mean in math   \n",
       "2  what is non controlling interest on balance sheet   \n",
       "3  who proposed that electrons behave like waves ...   \n",
       "4  what are the main crops grown in the united st...   \n",
       "\n",
       "                                               short  \\\n",
       "0  enabled European empire expansion into the Ame...   \n",
       "1  the therefore sign ( ∴ ) is generally used bef...   \n",
       "2  the portion of a subsidiary corporation 's sto...   \n",
       "3  Max Planck , Albert Einstein , Louis de Brogli...   \n",
       "4                                               Corn   \n",
       "\n",
       "                                                long  \n",
       "0  <P> The trade winds are the prevailing pattern...  \n",
       "1  <P> In logical argument and mathematical proof...  \n",
       "2  <P> In accounting , minority interest ( or non...  \n",
       "3  <P> Through the work of Max Planck , Albert Ei...  \n",
       "4  <Table> <Tr> <Th> Major Crops in the USA </Th>...  "
      ]
     },
     "execution_count": 47,
     "metadata": {},
     "output_type": "execute_result"
    }
   ],
   "source": [
    "df_dev.head()"
   ]
  },
  {
   "cell_type": "code",
   "execution_count": 48,
   "metadata": {},
   "outputs": [
    {
     "data": {
      "text/plain": [
       "array(['what purpose did seasonal monsoon winds have on trade',\n",
       "       'what do the 3 dots mean in math',\n",
       "       'what is non controlling interest on balance sheet',\n",
       "       'who proposed that electrons behave like waves and particles',\n",
       "       'what are the main crops grown in the united states'], dtype=object)"
      ]
     },
     "execution_count": 48,
     "metadata": {},
     "output_type": "execute_result"
    }
   ],
   "source": [
    "df_dev[\"question\"].values"
   ]
  },
  {
   "cell_type": "code",
   "execution_count": 50,
   "metadata": {},
   "outputs": [],
   "source": [
    "#no matching =( between full google nat qwestion and csv\n",
    "\n",
    "for elem in df_dev[\"question\"].values:\n",
    "    if elem in comparation_question:\n",
    "        print (elem)"
   ]
  },
  {
   "cell_type": "code",
   "execution_count": null,
   "metadata": {},
   "outputs": [],
   "source": []
  },
  {
   "cell_type": "code",
   "execution_count": 49,
   "metadata": {},
   "outputs": [
    {
     "data": {
      "text/plain": [
       "['what is the coldest temperature recorded in new york state',\n",
       " 'what is the tallest tower in the uk',\n",
       " 'what is the number one watched disney movie',\n",
       " 'which is higher chief of police or sheriff',\n",
       " 'who has been around longer coke or pepsi',\n",
       " 'what is the purest form of the bible',\n",
       " 'what is the most important gas in the greenhouse effect',\n",
       " 'what is the difference between southern and northern hemisphere',\n",
       " 'what is the busiest hurricane season on record',\n",
       " 'who has sold the highest number of albums',\n",
       " 'who was the youngest person to be elected president of the indian national congress',\n",
       " 'advantages of gas laser over solid state laser',\n",
       " 'who has more el clasico goals messi or ronaldo',\n",
       " 'who has the most elimination wins in challenge history',\n",
       " 'who has the most pga tour wins in a season',\n",
       " 'who has more international goals messi or ronaldo',\n",
       " 'who was the first official president of the united states',\n",
       " 'advantages of linked list over array in data structure',\n",
       " 'who is the highest paid athlete in the mlb',\n",
       " 'who is the first woman boxer to be honoured with the rajiv',\n",
       " 'who was the first player in bb history to return to the game after being evicted',\n",
       " 'who was the most popular president of the united states',\n",
       " 'the countries with the largest reserves of natural gas are',\n",
       " 'who is the longest running character on general hospital',\n",
       " 'who was the first person found not guilty by reason of insanity',\n",
       " 'who has won more championships duke or kansas',\n",
       " 'the most recent addition to the texas bill of rights',\n",
       " 'the first intelligence test to include a non-verbal scale as a measure of human intelligence',\n",
       " 'how is the climate along the coast different from the climate in the great basin',\n",
       " 'who made the first tv in the world',\n",
       " 'who landed on the moon for the first time',\n",
       " 'who was the most decorated soldier of ww2',\n",
       " 'who did the patriots play first this season',\n",
       " 'longest winning streaks in major league baseball history',\n",
       " 'who was the first actor who played james bond',\n",
       " \"which gases make up the largest percentage of earth's atmosphere\",\n",
       " 'what is the largest national park in australia',\n",
       " 'largest country in the world by land area',\n",
       " \"what's the biggest stadium in the us\",\n",
       " 'who is said to be the first modern archaeologist',\n",
       " 'who has the most all ireland hurling titles',\n",
       " 'who is oldest living baseball hall of famer',\n",
       " 'what came out first age of ultron or civil war',\n",
       " 'who is the lowest paid player in the nhl',\n",
       " 'who is the youngest person on the supreme court',\n",
       " 'lake chad’s water level was lowest in',\n",
       " 'first person to climb mount everest of india',\n",
       " 'who was the oldest supreme court justice ever',\n",
       " 'who holds the record for speaking the most languages',\n",
       " 'who was the youngest when they became the full-time host of the tonight show',\n",
       " 'why was france considered the most advanced country in europe',\n",
       " \"what's the difference between the eye of ra and the eye of horus\",\n",
       " 'barcelona vs real madrid who has more wins',\n",
       " 'what came first breaking bad or better call saul',\n",
       " 'what is the most popular religion in uk',\n",
       " 'what are the waves in order from smallest to biggest',\n",
       " 'what is the difference between c13 and c14',\n",
       " 'what is the most common bible translation in english',\n",
       " 'who has scored most goals in international football',\n",
       " 'what type of rainfall is more common in india and why',\n",
       " 'difference between full can and empty can test',\n",
       " 'what do the economic systems of the uk germany and russia have in common',\n",
       " 'who was the first serial killer in america',\n",
       " 'what is the difference between a corbel and a bracket',\n",
       " \"what's the difference between 380 acp and 380 auto\",\n",
       " 'who has had the shortest reign of the nine irish presidents to date',\n",
       " 'who has the highest fg percentage in the nba']"
      ]
     },
     "execution_count": 49,
     "metadata": {},
     "output_type": "execute_result"
    }
   ],
   "source": [
    "comparation_question"
   ]
  },
  {
   "cell_type": "code",
   "execution_count": 22,
   "metadata": {},
   "outputs": [],
   "source": [
    "data = flat_data + flat_data_dev# + flat_data_sample"
   ]
  },
  {
   "cell_type": "code",
   "execution_count": 23,
   "metadata": {},
   "outputs": [],
   "source": [
    "import pandas as pd \n",
    "data_df = pd.DataFrame(list(zip(pd.Series(data), pd.Series(['g'] * len(data)))), columns=['question', 'dataset'])\n",
    "#data_df.to_csv('~/Halle/ACQuA/data/google-questions/google-questions.csv', index=False, sep='\\t')"
   ]
  },
  {
   "cell_type": "code",
   "execution_count": 49,
   "metadata": {},
   "outputs": [
    {
     "data": {
      "text/html": [
       "<div>\n",
       "<style scoped>\n",
       "    .dataframe tbody tr th:only-of-type {\n",
       "        vertical-align: middle;\n",
       "    }\n",
       "\n",
       "    .dataframe tbody tr th {\n",
       "        vertical-align: top;\n",
       "    }\n",
       "\n",
       "    .dataframe thead th {\n",
       "        text-align: right;\n",
       "    }\n",
       "</style>\n",
       "<table border=\"1\" class=\"dataframe\">\n",
       "  <thead>\n",
       "    <tr style=\"text-align: right;\">\n",
       "      <th></th>\n",
       "      <th>question</th>\n",
       "      <th>dataset</th>\n",
       "    </tr>\n",
       "  </thead>\n",
       "  <tbody>\n",
       "    <tr>\n",
       "      <th>0</th>\n",
       "      <td>when is the last episode of season 8 of the wa...</td>\n",
       "      <td>g</td>\n",
       "    </tr>\n",
       "    <tr>\n",
       "      <th>1</th>\n",
       "      <td>in greek mythology who was the goddess of spri...</td>\n",
       "      <td>g</td>\n",
       "    </tr>\n",
       "    <tr>\n",
       "      <th>2</th>\n",
       "      <td>benefits of colonial life for single celled or...</td>\n",
       "      <td>g</td>\n",
       "    </tr>\n",
       "    <tr>\n",
       "      <th>3</th>\n",
       "      <td>how many season of the man in the high castle</td>\n",
       "      <td>g</td>\n",
       "    </tr>\n",
       "    <tr>\n",
       "      <th>4</th>\n",
       "      <td>who was the first ministry head of state in ni...</td>\n",
       "      <td>g</td>\n",
       "    </tr>\n",
       "    <tr>\n",
       "      <th>5</th>\n",
       "      <td>how many nominations does game of thrones have</td>\n",
       "      <td>g</td>\n",
       "    </tr>\n",
       "  </tbody>\n",
       "</table>\n",
       "</div>"
      ],
      "text/plain": [
       "                                            question dataset\n",
       "0  when is the last episode of season 8 of the wa...       g\n",
       "1  in greek mythology who was the goddess of spri...       g\n",
       "2  benefits of colonial life for single celled or...       g\n",
       "3      how many season of the man in the high castle       g\n",
       "4  who was the first ministry head of state in ni...       g\n",
       "5     how many nominations does game of thrones have       g"
      ]
     },
     "execution_count": 49,
     "metadata": {},
     "output_type": "execute_result"
    }
   ],
   "source": [
    "data_df[:6]"
   ]
  },
  {
   "cell_type": "code",
   "execution_count": 12,
   "metadata": {},
   "outputs": [],
   "source": [
    "with open('questions_train.txt', 'w') as f:\n",
    "    for item in flat_data:\n",
    "        f.write(\"%s\\n\" % item.encode('utf-8'))\n",
    "with open('questions_dev.txt', 'w') as f:\n",
    "    for item in flat_data_dev:\n",
    "        f.write(\"%s\\n\" % item.encode('utf-8'))"
   ]
  },
  {
   "cell_type": "code",
   "execution_count": 28,
   "metadata": {},
   "outputs": [],
   "source": [
    "frames = [data_mismacro, data_gn]\n",
    "result = pd.concat(frames, sort=False)\n"
   ]
  },
  {
   "cell_type": "code",
   "execution_count": 2,
   "metadata": {},
   "outputs": [],
   "source": [
    "comparative_result = data_mismacro[data_mismacro['comp'] == 1.0]"
   ]
  },
  {
   "cell_type": "code",
   "execution_count": 27,
   "metadata": {},
   "outputs": [
    {
     "ename": "NameError",
     "evalue": "name 'data_mismacro' is not defined",
     "output_type": "error",
     "traceback": [
      "\u001b[0;31m---------------------------------------------------------------------------\u001b[0m",
      "\u001b[0;31mNameError\u001b[0m                                 Traceback (most recent call last)",
      "\u001b[0;32m<ipython-input-27-45097413a919>\u001b[0m in \u001b[0;36m<module>\u001b[0;34m\u001b[0m\n\u001b[0;32m----> 1\u001b[0;31m \u001b[0;32mfor\u001b[0m \u001b[0melem\u001b[0m \u001b[0;32min\u001b[0m \u001b[0mdata_mismacro\u001b[0m\u001b[0;34m[\u001b[0m\u001b[0;34m'question'\u001b[0m\u001b[0;34m]\u001b[0m\u001b[0;34m.\u001b[0m\u001b[0mvalues\u001b[0m\u001b[0;34m:\u001b[0m\u001b[0;34m\u001b[0m\u001b[0m\n\u001b[0m\u001b[1;32m      2\u001b[0m     \u001b[0;32mif\u001b[0m \u001b[0;34m'better'\u001b[0m \u001b[0;32min\u001b[0m \u001b[0melem\u001b[0m\u001b[0;34m:\u001b[0m\u001b[0;34m\u001b[0m\u001b[0m\n\u001b[1;32m      3\u001b[0m         \u001b[0mprint\u001b[0m \u001b[0;34m(\u001b[0m\u001b[0melem\u001b[0m\u001b[0;34m)\u001b[0m\u001b[0;34m\u001b[0m\u001b[0m\n",
      "\u001b[0;31mNameError\u001b[0m: name 'data_mismacro' is not defined"
     ]
    }
   ],
   "source": [
    "for elem in data_mismacro['question'].values:\n",
    "    if 'better' in elem:\n",
    "        print (elem)"
   ]
  }
 ],
 "metadata": {
  "kernelspec": {
   "display_name": "Python 3",
   "language": "python",
   "name": "python3"
  },
  "language_info": {
   "codemirror_mode": {
    "name": "ipython",
    "version": 3
   },
   "file_extension": ".py",
   "mimetype": "text/x-python",
   "name": "python",
   "nbconvert_exporter": "python",
   "pygments_lexer": "ipython3",
   "version": "3.6.6"
  }
 },
 "nbformat": 4,
 "nbformat_minor": 2
}
