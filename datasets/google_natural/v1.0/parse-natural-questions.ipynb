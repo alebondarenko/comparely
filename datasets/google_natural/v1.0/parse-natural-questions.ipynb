{
 "cells": [
  {
   "cell_type": "code",
   "execution_count": 1,
   "metadata": {},
   "outputs": [
    {
     "name": "stderr",
     "output_type": "stream",
     "text": [
      "100%|██████████| 50/50 [1:00:30<00:00, 75.30s/it]\n"
     ]
    }
   ],
   "source": [
    "import json\n",
    "import gzip\n",
    "import random\n",
    "import os\n",
    "from tqdm import tqdm\n",
    "    \n",
    "data = []\n",
    "for filename in tqdm(os.listdir('v1.0/train/')):\n",
    "    with gzip.GzipFile('v1.0/train/' + filename, 'r') as f:\n",
    "        json_train = [json.loads(line)['question_text'] for line in f]\n",
    "    data.append(json_train)\n",
    "flat_data = [item for sublist in data for item in sublist]\n",
    "del data"
   ]
  },
  {
   "cell_type": "code",
   "execution_count": 5,
   "metadata": {},
   "outputs": [
    {
     "name": "stderr",
     "output_type": "stream",
     "text": [
      "100%|██████████| 5/5 [01:32<00:00, 18.43s/it]\n"
     ]
    }
   ],
   "source": [
    "data = []\n",
    "for filename in tqdm(os.listdir('v1.0/dev/')):\n",
    "    with gzip.GzipFile('v1.0/dev/' + filename, 'r') as f:\n",
    "        json_train = [json.loads(line)['question_text'] for line in f]\n",
    "    data.append(json_train)\n",
    "flat_data_dev = [item for sublist in data for item in sublist]\n",
    "del data"
   ]
  },
  {
   "cell_type": "code",
   "execution_count": 8,
   "metadata": {},
   "outputs": [
    {
     "name": "stderr",
     "output_type": "stream",
     "text": [
      "100%|██████████| 2/2 [00:04<00:00,  2.35s/it]\n"
     ]
    }
   ],
   "source": [
    "data = []\n",
    "for filename in tqdm(os.listdir('v1.0/sample/')):\n",
    "    with gzip.GzipFile('v1.0/sample/' + filename, 'r') as f:\n",
    "        json_train = [json.loads(line)['question_text'] for line in f]\n",
    "    data.append(json_train)\n",
    "flat_data_sample = [item for sublist in data for item in sublist]\n",
    "del data"
   ]
  },
  {
   "cell_type": "code",
   "execution_count": 10,
   "metadata": {},
   "outputs": [],
   "source": [
    "data = flat_data + flat_data_dev + flat_data_sample"
   ]
  },
  {
   "cell_type": "code",
   "execution_count": 22,
   "metadata": {},
   "outputs": [],
   "source": [
    "import pandas as pd \n",
    "data_df = pd.DataFrame(list(zip(pd.Series(data), pd.Series(['g'] * len(data)))), columns=['question', 'dataset'])\n",
    "#data_df.to_csv('~/Halle/ACQuA/data/google-questions/google-questions.csv', index=False, sep='\\t')"
   ]
  },
  {
   "cell_type": "code",
   "execution_count": null,
   "metadata": {},
   "outputs": [],
   "source": [
    "with open('questions_dev.txt', 'w') as f:\n",
    "    for item in flat_data:\n",
    "        f.write(\"%s\\n\" % item)"
   ]
  },
  {
   "cell_type": "code",
   "execution_count": null,
   "metadata": {},
   "outputs": [],
   "source": [
    "with open('questions_dev.txt', 'r') as file:\n",
    "    dev = [line.strip() for line in file]\n",
    "with open('questions_train.txt', 'r') as file:\n",
    "    train = [line.strip() for line in file]"
   ]
  },
  {
   "cell_type": "code",
   "execution_count": null,
   "metadata": {},
   "outputs": [],
   "source": [
    "with open('questions_rand.txt', 'w') as f:\n",
    "    for item in random.sample(train + dev, 1100):\n",
    "        f.write(\"%s\\n\" % item)"
   ]
  },
  {
   "cell_type": "code",
   "execution_count": null,
   "metadata": {},
   "outputs": [],
   "source": [
    "for item in train:\n",
    "    if 'er' in item and ' or ' in item:\n",
    "        print(item)"
   ]
  },
  {
   "cell_type": "code",
   "execution_count": null,
   "metadata": {},
   "outputs": [],
   "source": [
    "len(train)"
   ]
  },
  {
   "cell_type": "code",
   "execution_count": null,
   "metadata": {},
   "outputs": [],
   "source": [
    "for item in train:\n",
    "    if item.split()[-2:] == ['for', 'me']:\n",
    "        print(item)"
   ]
  }
 ],
 "metadata": {
  "kernelspec": {
   "display_name": "Python 3",
   "language": "python",
   "name": "python3"
  },
  "language_info": {
   "codemirror_mode": {
    "name": "ipython",
    "version": 3
   },
   "file_extension": ".py",
   "mimetype": "text/x-python",
   "name": "python",
   "nbconvert_exporter": "python",
   "pygments_lexer": "ipython3",
   "version": "3.6.6"
  }
 },
 "nbformat": 4,
 "nbformat_minor": 2
}
