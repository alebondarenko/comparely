{
 "cells": [
  {
   "cell_type": "code",
   "execution_count": 13,
   "metadata": {},
   "outputs": [],
   "source": [
    "import json\n",
    "import gzip\n",
    "import random\n",
    "    \n",
    "with gzip.GzipFile('train_v2.1.json.gz', 'r') as fin:\n",
    "    data_train = json.loads(fin.read().decode('utf-8'))\n",
    "with gzip.GzipFile('dev_v2.1.json.gz', 'r') as fin:\n",
    "    data_dev = json.loads(fin.read().decode('utf-8'))\n",
    "#with gzip.GzipFile('train_v1.1.json.gz', 'r') as fin:\n",
    "    #data_train1 = json.loads(fin.read().decode('utf-8')) #multiple jsons?\n",
    "#with gzip.GzipFile('dev_v1.1.json.gz', 'r') as fin:\n",
    "    #data_dev1 = json.loads(fin.read().decode('utf-8'))"
   ]
  },
  {
   "cell_type": "code",
   "execution_count": 14,
   "metadata": {},
   "outputs": [
    {
     "name": "stdout",
     "output_type": "stream",
     "text": [
      "/home/vika/comparative-dialogue/comparative-dialogue/datasets/marco_data\n"
     ]
    }
   ],
   "source": [
    "! pwd"
   ]
  },
  {
   "cell_type": "code",
   "execution_count": 15,
   "metadata": {},
   "outputs": [],
   "source": [
    "import pandas as pd \n",
    "final_df = pd.DataFrame(columns=['question', 'short_answ', 'long_answ', 'explanation'])"
   ]
  },
  {
   "cell_type": "code",
   "execution_count": 17,
   "metadata": {},
   "outputs": [
    {
     "name": "stdout",
     "output_type": "stream",
     "text": [
      "57\n"
     ]
    },
    {
     "ename": "NameError",
     "evalue": "name 'data_train1' is not defined",
     "output_type": "error",
     "traceback": [
      "\u001b[0;31m---------------------------------------------------------------------------\u001b[0m",
      "\u001b[0;31mNameError\u001b[0m                                 Traceback (most recent call last)",
      "\u001b[0;32m<ipython-input-17-2ca2c47b3489>\u001b[0m in \u001b[0;36m<module>\u001b[0;34m\u001b[0m\n\u001b[1;32m     18\u001b[0m \u001b[0;32mdel\u001b[0m \u001b[0mdata_train\u001b[0m\u001b[0;34m\u001b[0m\u001b[0m\n\u001b[1;32m     19\u001b[0m \u001b[0;32mdel\u001b[0m \u001b[0mdata_dev\u001b[0m\u001b[0;34m\u001b[0m\u001b[0m\n\u001b[0;32m---> 20\u001b[0;31m \u001b[0;32mdel\u001b[0m \u001b[0mdata_train1\u001b[0m\u001b[0;34m\u001b[0m\u001b[0m\n\u001b[0m\u001b[1;32m     21\u001b[0m \u001b[0;32mdel\u001b[0m \u001b[0mdata_dev1\u001b[0m\u001b[0;34m\u001b[0m\u001b[0m\n",
      "\u001b[0;31mNameError\u001b[0m: name 'data_train1' is not defined"
     ]
    }
   ],
   "source": [
    "c=0\n",
    "\n",
    "for ds in [data_train, data_dev]:\n",
    "    data = ds\n",
    "    for item in list(zip(list(data['query'].values()), data['answers'].values(),\n",
    "                         data['wellFormedAnswers'].values(), data['passages'].values())):\n",
    "        if 'better' in item[0] and item[2] != '[]': ### search for better in queries (the whole query can be used instead)\n",
    "            #print(item[0], item[1], item[2])\n",
    "            #for passage in item[3]:\n",
    "                #if passage['is_selected'] == 1: print(passage)\n",
    "            final_df = final_df.append({'question':item[0], 'short_answ':item[1], 'long_answ':item[2], 'explanation':item[3]}, ignore_index=True)\n",
    "            #print('-----------')\n",
    "            c+=1\n",
    "print(c)\n",
    "#list(data.values())[0]\n",
    "\n",
    "\n",
    "del data_train\n",
    "del data_dev\n",
    "del data_train1\n",
    "del data_dev1"
   ]
  },
  {
   "cell_type": "code",
   "execution_count": 18,
   "metadata": {},
   "outputs": [
    {
     "data": {
      "text/html": [
       "<div>\n",
       "<style scoped>\n",
       "    .dataframe tbody tr th:only-of-type {\n",
       "        vertical-align: middle;\n",
       "    }\n",
       "\n",
       "    .dataframe tbody tr th {\n",
       "        vertical-align: top;\n",
       "    }\n",
       "\n",
       "    .dataframe thead th {\n",
       "        text-align: right;\n",
       "    }\n",
       "</style>\n",
       "<table border=\"1\" class=\"dataframe\">\n",
       "  <thead>\n",
       "    <tr style=\"text-align: right;\">\n",
       "      <th></th>\n",
       "      <th>question</th>\n",
       "      <th>short_answ</th>\n",
       "      <th>long_answ</th>\n",
       "      <th>explanation</th>\n",
       "    </tr>\n",
       "  </thead>\n",
       "  <tbody>\n",
       "    <tr>\n",
       "      <th>0</th>\n",
       "      <td>can a persons credit get better aftef a year?</td>\n",
       "      <td>[no]</td>\n",
       "      <td>[No, a person's credit can not get better afte...</td>\n",
       "      <td>[{'is_selected': 0, 'passage_text': 'You may w...</td>\n",
       "    </tr>\n",
       "    <tr>\n",
       "      <th>1</th>\n",
       "      <td>is project m better than melee</td>\n",
       "      <td>[No, Yes]</td>\n",
       "      <td>[No, project M is not better than melee.]</td>\n",
       "      <td>[{'is_selected': 0, 'passage_text': 'The logo ...</td>\n",
       "    </tr>\n",
       "    <tr>\n",
       "      <th>2</th>\n",
       "      <td>is it better to have default instance or named...</td>\n",
       "      <td>[Default]</td>\n",
       "      <td>[It is better to have a default instance.]</td>\n",
       "      <td>[{'is_selected': 0, 'passage_text': 'If a defa...</td>\n",
       "    </tr>\n",
       "    <tr>\n",
       "      <th>3</th>\n",
       "      <td>is it better to be the first or last to interv...</td>\n",
       "      <td>[Yes]</td>\n",
       "      <td>[yes, it is better to be the first or last to ...</td>\n",
       "      <td>[{'is_selected': 0, 'passage_text': 'Suppose y...</td>\n",
       "    </tr>\n",
       "    <tr>\n",
       "      <th>4</th>\n",
       "      <td>what is better memory foam or gel memory foam</td>\n",
       "      <td>[Gel memory foam]</td>\n",
       "      <td>[Gel memory foam is better than a memory foam.]</td>\n",
       "      <td>[{'is_selected': 0, 'passage_text': 'Whether y...</td>\n",
       "    </tr>\n",
       "  </tbody>\n",
       "</table>\n",
       "</div>"
      ],
      "text/plain": [
       "                                            question         short_answ  \\\n",
       "0      can a persons credit get better aftef a year?               [no]   \n",
       "1                     is project m better than melee          [No, Yes]   \n",
       "2  is it better to have default instance or named...          [Default]   \n",
       "3  is it better to be the first or last to interv...              [Yes]   \n",
       "4      what is better memory foam or gel memory foam  [Gel memory foam]   \n",
       "\n",
       "                                           long_answ  \\\n",
       "0  [No, a person's credit can not get better afte...   \n",
       "1          [No, project M is not better than melee.]   \n",
       "2         [It is better to have a default instance.]   \n",
       "3  [yes, it is better to be the first or last to ...   \n",
       "4    [Gel memory foam is better than a memory foam.]   \n",
       "\n",
       "                                         explanation  \n",
       "0  [{'is_selected': 0, 'passage_text': 'You may w...  \n",
       "1  [{'is_selected': 0, 'passage_text': 'The logo ...  \n",
       "2  [{'is_selected': 0, 'passage_text': 'If a defa...  \n",
       "3  [{'is_selected': 0, 'passage_text': 'Suppose y...  \n",
       "4  [{'is_selected': 0, 'passage_text': 'Whether y...  "
      ]
     },
     "execution_count": 18,
     "metadata": {},
     "output_type": "execute_result"
    }
   ],
   "source": [
    "final_df.head()"
   ]
  },
  {
   "cell_type": "code",
   "execution_count": 19,
   "metadata": {},
   "outputs": [],
   "source": [
    "final_df.to_csv('marco_CQA.csv')"
   ]
  },
  {
   "cell_type": "code",
   "execution_count": null,
   "metadata": {},
   "outputs": [],
   "source": [
    "from __future__ import print_function"
   ]
  },
  {
   "cell_type": "code",
   "execution_count": null,
   "metadata": {},
   "outputs": [],
   "source": [
    "data['answers']['0']"
   ]
  },
  {
   "cell_type": "code",
   "execution_count": null,
   "metadata": {},
   "outputs": [],
   "source": [
    "data['wellFormedAnswers']['10']"
   ]
  },
  {
   "cell_type": "code",
   "execution_count": null,
   "metadata": {},
   "outputs": [],
   "source": [
    "l_questions = random.sample( data['query'].items(), 1100 )\n",
    "questions = [x[1] for x in l_questions]"
   ]
  },
  {
   "cell_type": "code",
   "execution_count": 43,
   "metadata": {},
   "outputs": [
    {
     "data": {
      "text/plain": [
       "[')what was the immediate impact of the success of the manhattan project?',\n",
       " '_________ justice is designed to repair the harm to victim, the community and the offender caused by the offender criminal act. question 19 options:',\n",
       " 'why did stalin want control of eastern europe',\n",
       " 'why do nails get rusty',\n",
       " 'depona ab',\n",
       " 'is the atlanta airport the busiest in the world',\n",
       " 'nyu tuition cost',\n",
       " 'at what age do kids start to hold memories',\n",
       " 'average teeth brushing time',\n",
       " 'is funner a word?']"
      ]
     },
     "execution_count": 43,
     "metadata": {},
     "output_type": "execute_result"
    }
   ],
   "source": [
    "list(data['query'].values())[0:10]"
   ]
  },
  {
   "cell_type": "code",
   "execution_count": null,
   "metadata": {},
   "outputs": [],
   "source": [
    "for item in data['query']:\n",
    "    if 'what' in item:\n",
    "        print(item)"
   ]
  },
  {
   "cell_type": "code",
   "execution_count": null,
   "metadata": {},
   "outputs": [],
   "source": [
    "for item in list(data['query'].values()):\n",
    "    if 'better' in item:\n",
    "        print(item)"
   ]
  },
  {
   "cell_type": "code",
   "execution_count": 46,
   "metadata": {},
   "outputs": [
    {
     "name": "stdout",
     "output_type": "stream",
     "text": [
      "what can honor society do for me\n",
      "what does tax reform mean for me\n",
      "what career field is right for me\n",
      "what does michigan catastrophic auto have to provide for me\n",
      "i am 32weeks pregnant and still drink rooiboos tea, is it ok for me\n",
      "what cut of diamond is best for me\n",
      "is the doberman pinscher right for me\n",
      "what can an mba do for me\n",
      "what business can create documents for me\n",
      "what can a diabetic educator do for me\n",
      "how much would I pay a person to cook one meal a day for me\n",
      "what cat breed is right for me\n",
      "define health fraud for me\n",
      "what can linkedin do for me\n",
      "who sang knew you were waiting for me\n",
      "do the training for me\n",
      "what type engineering major is better for me\n",
      "how old is jessica walter from play misty for me\n",
      "when does school begin for me\n",
      "why doesn't pain medication work for me\n",
      "who sings teddy jam for me\n",
      "what year was i knew you were waiting for me\n",
      "what putter height is best for me\n",
      "who is the right person for me\n",
      "what neighborhood in boston is right for me\n",
      "what router is right for me\n",
      "which dosage of cialis is right for me\n",
      "who starred in play misty for me\n",
      "which president is for me\n",
      "who wrote the song: seeking for me\n",
      "which suv is right for me\n",
      "who sang i'll be coming home, wait for me\n",
      "what whey protein is good for me\n",
      "what is the best breed of dog for me\n",
      "how do i know what amount of caffeine is right for me\n",
      "what can vitamin d do for me\n",
      "can you please sing a song for me\n",
      "pursuing a career in aerospace which job is best for me\n",
      "what is a good safety school for me\n",
      "what does tax cut mean for me\n",
      "is group therapy for me\n"
     ]
    }
   ],
   "source": [
    "for item in list(data['query'].values()):\n",
    "    if item.split()[-2:] == ['for', 'me']:\n",
    "        print(item)"
   ]
  },
  {
   "cell_type": "code",
   "execution_count": null,
   "metadata": {},
   "outputs": [],
   "source": []
  }
 ],
 "metadata": {
  "kernelspec": {
   "display_name": "Python 3",
   "language": "python",
   "name": "python3"
  },
  "language_info": {
   "codemirror_mode": {
    "name": "ipython",
    "version": 3
   },
   "file_extension": ".py",
   "mimetype": "text/x-python",
   "name": "python",
   "nbconvert_exporter": "python",
   "pygments_lexer": "ipython3",
   "version": "3.6.6"
  }
 },
 "nbformat": 4,
 "nbformat_minor": 4
}
