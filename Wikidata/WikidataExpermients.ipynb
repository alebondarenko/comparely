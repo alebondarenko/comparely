{
 "cells": [
  {
   "cell_type": "code",
   "execution_count": 1,
   "metadata": {},
   "outputs": [],
   "source": [
    "from qwikidata.sparql  import return_sparql_query_results\n",
    "import pandas as pd\n",
    "import numpy as np\n",
    "import requests"
   ]
  },
  {
   "cell_type": "markdown",
   "metadata": {},
   "source": [
    "A function making a query to wikidata using SPARQL for getting a list of entities using a string as a name the desired item."
   ]
  },
  {
   "cell_type": "code",
   "execution_count": 2,
   "metadata": {},
   "outputs": [],
   "source": [
    "def search_entities(item, limit=10):\n",
    "    query_string = f\"\"\"\n",
    "    SELECT * WHERE {{\n",
    "      ?item wdt:P31 ?instance\n",
    "      SERVICE wikibase:mwapi {{\n",
    "        bd:serviceParam wikibase:api \"EntitySearch\" .\n",
    "        bd:serviceParam wikibase:endpoint \"www.wikidata.org\" .\n",
    "        bd:serviceParam mwapi:search \"{item}\" .\n",
    "        bd:serviceParam mwapi:language \"en\" .\n",
    "        bd:serviceParam mwapi:uselang \"en\" .\n",
    "        bd:serviceParam mwapi:limit {limit} .\n",
    "        ?item wikibase:apiOutputItem mwapi:item .\n",
    "\n",
    "        ?num wikibase:apiOrdinal true.\n",
    "      }}\n",
    "    }} ORDER BY ASC (?num)\n",
    "    \"\"\"\n",
    "#         ?label wikibase:apiOutput \"@label\" .\n",
    "#         ?matchType wikibase:apiOutput \"match/@type\" .\n",
    "#         ?matchLang wikibase:apiOutput \"match/@language\" .\n",
    "#         ?matchText wikibase:apiOutput \"match/@text\"  .\n",
    "#         ?description wikibase:apiOutput \"@description\" .\n",
    "    res = return_sparql_query_results(query_string)\n",
    "    return res"
   ]
  },
  {
   "cell_type": "code",
   "execution_count": 3,
   "metadata": {},
   "outputs": [],
   "source": [
    "res_a = search_entities(\"Python\")\n",
    "res_b = search_entities(\"Java\")"
   ]
  },
  {
   "cell_type": "markdown",
   "metadata": {},
   "source": [
    "This function transforms the response from the entity searching query to the dataframe which contains pairs of the following format: Entity - One of the classes of which this entity is an instance. One entity can be an instance of several classes, so some pairs have same entity."
   ]
  },
  {
   "cell_type": "code",
   "execution_count": 5,
   "metadata": {},
   "outputs": [],
   "source": [
    "def res2df(res):\n",
    "    df = pd.DataFrame(columns=['entity', 'instance', 'num'])\n",
    "    for row in res[\"results\"][\"bindings\"]:\n",
    "        entity = row[\"item\"][\"value\"].split('/')[-1]\n",
    "        instance = row[\"instance\"][\"value\"].split('/')[-1]\n",
    "        num = row[\"num\"][\"value\"]\n",
    "        df = df.append({'entity': entity, 'instance': instance, 'num': num}, ignore_index=True)\n",
    "    return df"
   ]
  },
  {
   "cell_type": "code",
   "execution_count": 6,
   "metadata": {},
   "outputs": [],
   "source": [
    "df_a = res2df(res_a)\n",
    "df_b = res2df(res_b)"
   ]
  },
  {
   "cell_type": "markdown",
   "metadata": {},
   "source": [
    "A function for extracting information about entities listed using a query to MediaWiki API. SPARQL does not give the full list of enitities for some reason. You cn check this by comparing the response received from it with web search page results at wikidata.org. Nevertheless, it can be helpful for getting a list of entities for a requested string."
   ]
  },
  {
   "cell_type": "code",
   "execution_count": 6,
   "metadata": {},
   "outputs": [],
   "source": [
    "def get_entities(entities):\n",
    "    ids = \"\"\n",
    "    for entity in entities:\n",
    "        ids += entity + \"|\"\n",
    "    ids = ids[:-1]\n",
    "    url = f\"https://www.wikidata.org/w/api.php?action=wbgetentities&ids={ids}&languages=en&format=json\"\n",
    "    response = requests.get(url).json()\n",
    "    return response"
   ]
  },
  {
   "cell_type": "markdown",
   "metadata": {},
   "source": [
    "Extracting the list of entities from json responce received by the previous function."
   ]
  },
  {
   "cell_type": "code",
   "execution_count": 7,
   "metadata": {},
   "outputs": [],
   "source": [
    "def get_insts_from_json(json):\n",
    "    insts = []\n",
    "    for key, val in json['entities'].items():\n",
    "        insts_json = val['claims']['P31']\n",
    "        inst = []\n",
    "        for inst_json in insts_json:\n",
    "            inst.append(inst_json['mainsnak']['datavalue']['value']['id'])\n",
    "        insts.append(inst)\n",
    "    return insts"
   ]
  },
  {
   "cell_type": "markdown",
   "metadata": {},
   "source": [
    "A function for getting the supposedly compared entities by the principle of the majotity of coinciding \"instances\" (the classes of which this entity is an instance)."
   ]
  },
  {
   "cell_type": "code",
   "execution_count": 8,
   "metadata": {},
   "outputs": [],
   "source": [
    "def get_best_pair(df_a, df_b):\n",
    "    ent_a = df_a['entity'].unique()\n",
    "    ent_b = df_b['entity'].unique()\n",
    "    json_a = get_entities(ent_a)\n",
    "    json_b = get_entities(ent_b)\n",
    "    insts_a = get_insts_from_json(json_a)\n",
    "    insts_b = get_insts_from_json(json_b)\n",
    "    \n",
    "    conc_table = np.zeros((ent_a.shape[0], ent_b.shape[0]))\n",
    "    for ind, val in np.ndenumerate(conc_table):\n",
    "#         inst_a = df_a[df_a['entity'] == ent_a[ind[0]]]['instance']\n",
    "#         inst_b = df_b[df_b['entity'] == ent_b[ind[1]]]['instance']\n",
    "        inst_a = insts_a[ind[0]]\n",
    "        inst_b = insts_b[ind[1]]\n",
    "        common_inst = list(set(inst_a) & set(inst_b))\n",
    "        conc_table[ind] = len(common_inst)\n",
    "    pair = list(np.unravel_index(np.argmax(conc_table), conc_table.shape))\n",
    "    pair[0] = ent_a[pair[0]]\n",
    "    pair[1] = ent_b[pair[1]]\n",
    "    return pair"
   ]
  },
  {
   "cell_type": "code",
   "execution_count": 9,
   "metadata": {},
   "outputs": [
    {
     "data": {
      "text/plain": [
       "['Q28865', 'Q251']"
      ]
     },
     "execution_count": 9,
     "metadata": {},
     "output_type": "execute_result"
    }
   ],
   "source": [
    "get_best_pair(df_a, df_b)"
   ]
  },
  {
   "cell_type": "markdown",
   "metadata": {},
   "source": [
    "Uniting the process of searching for entities, corresponding to the compared objects, using string names as input,  into one function. String names -> entity ids."
   ]
  },
  {
   "cell_type": "code",
   "execution_count": 10,
   "metadata": {},
   "outputs": [],
   "source": [
    "def strings2ids(obj_a, obj_b):\n",
    "    a = search_entities(obj_a)\n",
    "    b = search_entities(obj_b)\n",
    "    a = res2df(a)\n",
    "    b = res2df(b)\n",
    "    ids = get_best_pair(a, b)\n",
    "    return ids"
   ]
  },
  {
   "cell_type": "code",
   "execution_count": 11,
   "metadata": {},
   "outputs": [
    {
     "data": {
      "text/plain": [
       "['Q28865', 'Q251']"
      ]
     },
     "execution_count": 11,
     "metadata": {},
     "output_type": "execute_result"
    }
   ],
   "source": [
    "strings2ids(\"python\", \"java\")"
   ]
  },
  {
   "cell_type": "code",
   "execution_count": null,
   "metadata": {},
   "outputs": [],
   "source": []
  }
 ],
 "metadata": {
  "kernelspec": {
   "display_name": "Python 3",
   "language": "python",
   "name": "python3"
  },
  "language_info": {
   "codemirror_mode": {
    "name": "ipython",
    "version": 3
   },
   "file_extension": ".py",
   "mimetype": "text/x-python",
   "name": "python",
   "nbconvert_exporter": "python",
   "pygments_lexer": "ipython3",
   "version": "3.7.4"
  }
 },
 "nbformat": 4,
 "nbformat_minor": 2
}
