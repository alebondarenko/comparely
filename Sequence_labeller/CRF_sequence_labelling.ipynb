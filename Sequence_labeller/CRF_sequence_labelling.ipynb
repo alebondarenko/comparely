{
 "cells": [
  {
   "cell_type": "code",
   "execution_count": 3,
   "metadata": {
    "scrolled": true
   },
   "outputs": [
    {
     "data": {
      "text/plain": [
       "[['also', 'RB', 'O'],\n",
       " [',', ',', 'O'],\n",
       " ['i', 'NNS', 'O'],\n",
       " ['have', 'VBP', 'O'],\n",
       " ['recently', 'RB', 'O'],\n",
       " ['discovered', 'VBN', 'O'],\n",
       " ['advil', 'NN', 'B-OBJ'],\n",
       " ['liquigels', 'NNS', 'O'],\n",
       " ['work', 'VBP', 'O'],\n",
       " ['much', 'RB', 'O'],\n",
       " ['better', 'JJR', 'O'],\n",
       " ['and', 'CC', 'O'],\n",
       " ['faster', 'RBR', 'B-PREDFULL'],\n",
       " ['for', 'IN', 'I-PREDFULL'],\n",
       " ['a', 'DT', 'I-PREDFULL'],\n",
       " ['headache', 'NN', 'I-PREDFULL'],\n",
       " ['than', 'IN', 'O'],\n",
       " ['regular', 'JJ', 'O'],\n",
       " ['ibuprofen', 'NN', 'B-OBJ'],\n",
       " ['.', '.', 'O']]"
      ]
     },
     "execution_count": 3,
     "metadata": {},
     "output_type": "execute_result"
    }
   ],
   "source": [
    "import nltk\n",
    "#for X, Y\n",
    "# def data_preparing(filename):\n",
    "#     f = open(filename)\n",
    "#     X = []\n",
    "#     X_sentence = []\n",
    "#     Y_sentence = []\n",
    "#     Y = []\n",
    "#     for line in f:\n",
    "#         if len(line)!=1:\n",
    "#             split = line.split()\n",
    "#             X_sentence.append([split[0]])\n",
    "#             Y_sentence.append(split[1])\n",
    "#         else:\n",
    "#             tmp = []\n",
    "#             for i in range(0, len(X_sentence)):\n",
    "#                 tmp.append(X_sentence[i][0])\n",
    "#             pos = nltk.pos_tag(tmp)\n",
    "#             for j in range (0, len(X_sentence)):\n",
    "#                 X_sentence[j].insert(1, pos[j][1])\n",
    "#             X.append(X_sentence)\n",
    "#             Y.append(Y_sentence)\n",
    "#             X_sentence = []\n",
    "#             Y_sentence = []\n",
    "#     return X, Y\n",
    "\n",
    "# X_train, Y_train = data_preparing(\"sequence_labelling_aspects/train_aspect.tsv\")\n",
    "# X_test, Y_test = data_preparing(\"sequence_labelling_aspects/test_aspect.tsv\")\n",
    "# X_dev, Y_dev = data_preparing(\"sequence_labelling_aspects/dev_aspect.tsv\")\n",
    "\n",
    "#for sentence\n",
    "def data_preparing(filename):\n",
    "    f = open(filename)\n",
    "    sentences = []\n",
    "    sentence = []\n",
    "    for line in f:\n",
    "        if len(line)!=1:\n",
    "            sentence.append(line.split())\n",
    "        else:\n",
    "            tmp = []\n",
    "            for i in range(len(sentence)):\n",
    "                tmp.append(sentence[i][0])\n",
    "            pos = nltk.pos_tag(tmp)\n",
    "            for j in range (len(sentence)):\n",
    "                sentence[j].insert(1, pos[j][1])\n",
    "            sentences.append(sentence)\n",
    "            sentence = []\n",
    "    return sentences\n",
    "\n",
    "train_sentences = data_preparing(\"sequence_labelling_predicate/train_pred_full.tsv\")\n",
    "test_sentences = data_preparing(\"sequence_labelling_predicate/test_pred_full.tsv\")\n",
    "dev_sentences = data_preparing(\"sequence_labelling_predicate/dev_pred_full.tsv\")\n",
    "train_sentences[0]"
   ]
  },
  {
   "cell_type": "code",
   "execution_count": 4,
   "metadata": {},
   "outputs": [
    {
     "data": {
      "text/plain": [
       "3077"
      ]
     },
     "execution_count": 4,
     "metadata": {},
     "output_type": "execute_result"
    }
   ],
   "source": [
    "len(train_sentences)"
   ]
  },
  {
   "cell_type": "code",
   "execution_count": 5,
   "metadata": {},
   "outputs": [
    {
     "data": {
      "text/plain": [
       "488"
      ]
     },
     "execution_count": 5,
     "metadata": {},
     "output_type": "execute_result"
    }
   ],
   "source": [
    "len(test_sentences)"
   ]
  },
  {
   "cell_type": "code",
   "execution_count": 6,
   "metadata": {},
   "outputs": [
    {
     "data": {
      "text/plain": [
       "402"
      ]
     },
     "execution_count": 6,
     "metadata": {},
     "output_type": "execute_result"
    }
   ],
   "source": [
    "len(dev_sentences)"
   ]
  },
  {
   "cell_type": "code",
   "execution_count": 7,
   "metadata": {},
   "outputs": [],
   "source": [
    "def word2features(sent, i):\n",
    "    word = sent[i][0]\n",
    "    postag = sent[i][1]\n",
    "\n",
    "    features = {\n",
    "        'bias': 1.0,\n",
    "        'word.lower()': word.lower(),\n",
    "        'word[-3:]': word[-3:],\n",
    "        'word[-2:]': word[-2:],\n",
    "        'word.isupper()': word.isupper(),\n",
    "        'word.istitle()': word.istitle(),\n",
    "        'word.isdigit()': word.isdigit(),\n",
    "        'postag': postag,\n",
    "        'postag[:2]': postag[:2],\n",
    "    }\n",
    "    if i > 0:\n",
    "        word1 = sent[i-1][0]\n",
    "        postag1 = sent[i-1][1]\n",
    "        features.update({\n",
    "            '-1:word.lower()': word1.lower(),\n",
    "            '-1:word.istitle()': word1.istitle(),\n",
    "            '-1:word.isupper()': word1.isupper(),\n",
    "            '-1:postag': postag1,\n",
    "            '-1:postag[:2]': postag1[:2],\n",
    "        })\n",
    "    else:\n",
    "        features['BOS'] = True\n",
    "\n",
    "    if i < len(sent)-1:\n",
    "        word1 = sent[i+1][0]\n",
    "        postag1 = sent[i+1][1]\n",
    "        features.update({\n",
    "            '+1:word.lower()': word1.lower(),\n",
    "            '+1:word.istitle()': word1.istitle(),\n",
    "            '+1:word.isupper()': word1.isupper(),\n",
    "            '+1:postag': postag1,\n",
    "            '+1:postag[:2]': postag1[:2],\n",
    "        })\n",
    "    else:\n",
    "        features['EOS'] = True\n",
    "\n",
    "    return features\n",
    "\n",
    "\n",
    "def sent2features(sent):\n",
    "    return [word2features(sent, i) for i in range(len(sent))]\n",
    "\n",
    "def sent2labels(sent):\n",
    "    return [label for token, postag, label in sent]\n",
    "\n",
    "def sent2tokens(sent):\n",
    "    return [token for token, postag, label in sent]"
   ]
  },
  {
   "cell_type": "code",
   "execution_count": 8,
   "metadata": {},
   "outputs": [
    {
     "data": {
      "text/plain": [
       "['B-OBJ',\n",
       " 'I-OBJ',\n",
       " 'O',\n",
       " 'O',\n",
       " 'O',\n",
       " 'O',\n",
       " 'O',\n",
       " 'O',\n",
       " 'B-PREDFULL',\n",
       " 'O',\n",
       " 'B-OBJ',\n",
       " 'I-OBJ',\n",
       " 'O',\n",
       " 'O',\n",
       " 'O',\n",
       " 'O',\n",
       " 'O']"
      ]
     },
     "execution_count": 8,
     "metadata": {},
     "output_type": "execute_result"
    }
   ],
   "source": [
    "X_train = [sent2features(s) for s in train_sentences]\n",
    "y_train = [sent2labels(s) for s in train_sentences]\n",
    "\n",
    "X_test = [sent2features(s) for s in test_sentences]\n",
    "y_test = [sent2labels(s) for s in test_sentences]\n",
    "\n",
    "X_dev = [sent2features(s) for s in dev_sentences]\n",
    "y_dev = [sent2labels(s) for s in dev_sentences]\n",
    "y_dev[6]"
   ]
  },
  {
   "cell_type": "code",
   "execution_count": 9,
   "metadata": {
    "scrolled": true
   },
   "outputs": [
    {
     "data": {
      "text/plain": [
       "CRF(algorithm='l2sgd', all_possible_states=None, all_possible_transitions=True,\n",
       "    averaging=None, c=None, c1=None, c2=None, calibration_candidates=None,\n",
       "    calibration_eta=None, calibration_max_trials=None, calibration_rate=None,\n",
       "    calibration_samples=None, delta=None, epsilon=None, error_sensitive=None,\n",
       "    gamma=None, keep_tempfiles=None, linesearch=None, max_iterations=None,\n",
       "    max_linesearch=None, min_freq=None, model_filename=None, num_memories=None,\n",
       "    pa_type=None, period=None, trainer_cls=None, variance=None, verbose=False)"
      ]
     },
     "execution_count": 9,
     "metadata": {},
     "output_type": "execute_result"
    }
   ],
   "source": [
    "import sklearn\n",
    "import sklearn_crfsuite\n",
    "from sklearn_crfsuite import scorers\n",
    "crf = sklearn_crfsuite.CRF(algorithm='l2sgd' , all_possible_transitions=True)\n",
    "crf.fit(X_train, y_train)"
   ]
  },
  {
   "cell_type": "code",
   "execution_count": 17,
   "metadata": {},
   "outputs": [],
   "source": [
    "preds = crf.predict(X_test)\n",
    "test_labels = y_test"
   ]
  },
  {
   "cell_type": "code",
   "execution_count": 18,
   "metadata": {},
   "outputs": [
    {
     "name": "stdout",
     "output_type": "stream",
     "text": [
      "Precision: 0.579250720461095\n",
      "Recall: 0.16003184713375795\n",
      "Entity-level f1: 0.2507797878976918\n",
      "Report:\n",
      "            precision    recall  f1-score   support\n",
      "\n",
      "      OBJ       0.55      0.12      0.20      1092\n",
      " PREDFULL       0.66      0.41      0.50       164\n",
      "\n",
      "micro avg       0.58      0.16      0.25      1256\n",
      "macro avg       0.56      0.16      0.24      1256\n",
      "\n"
     ]
    }
   ],
   "source": [
    "from seqeval.metrics import precision_score, recall_score, f1_score, classification_report\n",
    "\n",
    "print(f'Precision:', precision_score(test_labels, preds))\n",
    "print(f'Recall:', recall_score(test_labels, preds))\n",
    "print(f'Entity-level f1: {str(f1_score(test_labels, preds))}')\n",
    "print(f'Report:\\n {str(classification_report(test_labels, preds))}')"
   ]
  },
  {
   "cell_type": "code",
   "execution_count": null,
   "metadata": {},
   "outputs": [],
   "source": []
  },
  {
   "cell_type": "code",
   "execution_count": null,
   "metadata": {},
   "outputs": [],
   "source": []
  },
  {
   "cell_type": "code",
   "execution_count": null,
   "metadata": {},
   "outputs": [],
   "source": []
  },
  {
   "cell_type": "code",
   "execution_count": null,
   "metadata": {},
   "outputs": [],
   "source": []
  },
  {
   "cell_type": "code",
   "execution_count": null,
   "metadata": {},
   "outputs": [],
   "source": []
  },
  {
   "cell_type": "code",
   "execution_count": null,
   "metadata": {},
   "outputs": [],
   "source": []
  },
  {
   "cell_type": "code",
   "execution_count": null,
   "metadata": {},
   "outputs": [],
   "source": []
  },
  {
   "cell_type": "code",
   "execution_count": 21,
   "metadata": {},
   "outputs": [
    {
     "data": {
      "text/plain": [
       "['B-OBJ', 'B-PREDFULL', 'I-PREDFULL', 'I-OBJ']"
      ]
     },
     "execution_count": 21,
     "metadata": {},
     "output_type": "execute_result"
    }
   ],
   "source": [
    "labels = list(crf.classes_)\n",
    "labels.remove('O')\n",
    "labels"
   ]
  },
  {
   "cell_type": "code",
   "execution_count": 22,
   "metadata": {},
   "outputs": [
    {
     "data": {
      "text/plain": [
       "0.08760407754569967"
      ]
     },
     "execution_count": 22,
     "metadata": {},
     "output_type": "execute_result"
    }
   ],
   "source": [
    "from sklearn_crfsuite import metrics\n",
    "y_pred = crf.predict(X_dev)\n",
    "metrics.flat_f1_score(y_dev, y_pred,\n",
    "                      average='weighted', labels=labels)"
   ]
  },
  {
   "cell_type": "code",
   "execution_count": 23,
   "metadata": {
    "scrolled": true
   },
   "outputs": [
    {
     "name": "stdout",
     "output_type": "stream",
     "text": [
      "              precision    recall  f1-score   support\n",
      "\n",
      "       B-OBJ      0.000     0.000     0.000      1097\n",
      "       I-OBJ      0.000     0.000     0.000         2\n",
      "  B-PREDFULL      0.644     0.475     0.546       118\n",
      "  I-PREDFULL      0.697     0.622     0.657        74\n",
      "\n",
      "   micro avg      0.537     0.079     0.138      1291\n",
      "   macro avg      0.335     0.274     0.301      1291\n",
      "weighted avg      0.099     0.079     0.088      1291\n",
      "\n"
     ]
    }
   ],
   "source": [
    "sorted_labels = sorted(\n",
    "    labels,\n",
    "    key=lambda name: (name[1:], name[0])\n",
    ")\n",
    "print(metrics.flat_classification_report(\n",
    "    y_dev, y_pred, labels=sorted_labels, digits=3\n",
    "))"
   ]
  },
  {
   "cell_type": "code",
   "execution_count": 33,
   "metadata": {},
   "outputs": [
    {
     "name": "stdout",
     "output_type": "stream",
     "text": [
      "Wall time: 0 ns\n",
      "Fitting 3 folds for each of 50 candidates, totalling 150 fits\n"
     ]
    },
    {
     "name": "stderr",
     "output_type": "stream",
     "text": [
      "[Parallel(n_jobs=-1)]: Using backend LokyBackend with 12 concurrent workers.\n",
      "[Parallel(n_jobs=-1)]: Done  26 tasks      | elapsed:  2.6min\n",
      "[Parallel(n_jobs=-1)]: Done 150 out of 150 | elapsed: 14.3min finished\n"
     ]
    },
    {
     "data": {
      "text/plain": [
       "RandomizedSearchCV(cv=3, error_score='raise-deprecating',\n",
       "                   estimator=CRF(algorithm='lbfgs', all_possible_states=None,\n",
       "                                 all_possible_transitions=True, averaging=None,\n",
       "                                 c=None, c1=None, c2=None,\n",
       "                                 calibration_candidates=None,\n",
       "                                 calibration_eta=None,\n",
       "                                 calibration_max_trials=None,\n",
       "                                 calibration_rate=None,\n",
       "                                 calibration_samples=None, delta=None,\n",
       "                                 epsilon=None, error_sensitive=None,...\n",
       "                   param_distributions={'c1': <scipy.stats._distn_infrastructure.rv_frozen object at 0x000001867662AC88>,\n",
       "                                        'c2': <scipy.stats._distn_infrastructure.rv_frozen object at 0x00000186767FA588>},\n",
       "                   pre_dispatch='2*n_jobs', random_state=None, refit=True,\n",
       "                   return_train_score=False,\n",
       "                   scoring=make_scorer(flat_f1_score, average=weighted, labels=['B-OBJ', 'B-PREDFULL', 'I-PREDFULL', 'I-OBJ']),\n",
       "                   verbose=1)"
      ]
     },
     "execution_count": 33,
     "metadata": {},
     "output_type": "execute_result"
    }
   ],
   "source": [
    "import scipy.stats\n",
    "from sklearn.metrics import make_scorer\n",
    "from sklearn.model_selection import RandomizedSearchCV\n",
    "\n",
    "%time\n",
    "# define fixed parameters and parameters to search\n",
    "crf = sklearn_crfsuite.CRF(\n",
    "    algorithm='lbfgs',\n",
    "    max_iterations=100,\n",
    "    all_possible_transitions=True\n",
    ")\n",
    "params_space = {\n",
    "    'c1': scipy.stats.expon(scale=0.5),\n",
    "    'c2': scipy.stats.expon(scale=0.05),\n",
    "}\n",
    "\n",
    "# use the same metric for evaluation\n",
    "f1_scorer = make_scorer(metrics.flat_f1_score,\n",
    "                        average='weighted', labels=labels)\n",
    "\n",
    "# search\n",
    "rs = RandomizedSearchCV(crf, params_space,\n",
    "                        cv=3,\n",
    "                        verbose=1,\n",
    "                        n_jobs=-1,\n",
    "                        n_iter=50,\n",
    "                        scoring=f1_scorer)\n",
    "rs.fit(X_train, y_train)"
   ]
  },
  {
   "cell_type": "code",
   "execution_count": 34,
   "metadata": {},
   "outputs": [
    {
     "name": "stdout",
     "output_type": "stream",
     "text": [
      "best params: {'c1': 0.7829299127396897, 'c2': 0.057576955210170415}\n",
      "best CV score: 0.3099099060523515\n",
      "model size: 0.10M\n"
     ]
    }
   ],
   "source": [
    "# crf = rs.best_estimator_\n",
    "print('best params:', rs.best_params_)\n",
    "print('best CV score:', rs.best_score_)\n",
    "print('model size: {:0.2f}M'.format(rs.best_estimator_.size_ / 1000000))"
   ]
  },
  {
   "cell_type": "code",
   "execution_count": 35,
   "metadata": {},
   "outputs": [
    {
     "name": "stdout",
     "output_type": "stream",
     "text": [
      "              precision    recall  f1-score   support\n",
      "\n",
      "       B-OBJ      0.000     0.000     0.000      1051\n",
      "       I-OBJ      0.000     0.000     0.000       142\n",
      "  B-PREDFULL      0.678     0.465     0.552       172\n",
      "  I-PREDFULL      0.670     0.625     0.647       104\n",
      "\n",
      "   micro avg      0.505     0.099     0.165      1469\n",
      "   macro avg      0.337     0.273     0.300      1469\n",
      "weighted avg      0.127     0.099     0.110      1469\n",
      "\n"
     ]
    }
   ],
   "source": [
    "crf = rs.best_estimator_\n",
    "y_pred = crf.predict(X_test)\n",
    "print(metrics.flat_classification_report(\n",
    "    y_test, y_pred, labels=sorted_labels, digits=3\n",
    "))"
   ]
  },
  {
   "cell_type": "code",
   "execution_count": null,
   "metadata": {},
   "outputs": [],
   "source": []
  }
 ],
 "metadata": {
  "kernelspec": {
   "display_name": "Python 3",
   "language": "python",
   "name": "python3"
  },
  "language_info": {
   "codemirror_mode": {
    "name": "ipython",
    "version": 3
   },
   "file_extension": ".py",
   "mimetype": "text/x-python",
   "name": "python",
   "nbconvert_exporter": "python",
   "pygments_lexer": "ipython3",
   "version": "3.7.4"
  }
 },
 "nbformat": 4,
 "nbformat_minor": 2
}
